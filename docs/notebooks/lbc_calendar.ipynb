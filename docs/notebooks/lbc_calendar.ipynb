{
 "cells": [
  {
   "cell_type": "markdown",
   "metadata": {},
   "source": [
    "# Marta Example Michar library \n",
    "1. import michar"
   ]
  },
  {
   "cell_type": "code",
   "execution_count": 1,
   "id": "1aba5266-ee2e-4077-b343-77fcc609ba99",
   "metadata": {},
   "outputs": [
    {
     "data": {
      "text/html": [
       "<pre style=\"white-space:pre;overflow-x:auto;line-height:normal;font-family:Menlo,'DejaVu Sans Mono',consolas,'Courier New',monospace\"><span style=\"color: #7fbfbf; text-decoration-color: #7fbfbf\">[11:38:07] </span><span style=\"color: #000080; text-decoration-color: #000080\">INFO    </span> Using michar version <span style=\"color: #008080; text-decoration-color: #008080; font-weight: bold\">0.1</span>.<span style=\"color: #008080; text-decoration-color: #008080; font-weight: bold\">1</span>                                                       <a href=\"file:///var/folders/hl/w6_pkxfd2jv6cjy4d67qkcrc0000gn/T/ipykernel_59566/548079639.py\" target=\"_blank\"><span style=\"color: #7f7f7f; text-decoration-color: #7f7f7f\">548079639.py</span></a><span style=\"color: #7f7f7f; text-decoration-color: #7f7f7f\">:</span><a href=\"file:///var/folders/hl/w6_pkxfd2jv6cjy4d67qkcrc0000gn/T/ipykernel_59566/548079639.py#4\" target=\"_blank\"><span style=\"color: #7f7f7f; text-decoration-color: #7f7f7f\">4</span></a>\n",
       "</pre>\n"
      ],
      "text/plain": [
       "\u001b[2;36m[11:38:07]\u001b[0m\u001b[2;36m \u001b[0m\u001b[34mINFO    \u001b[0m Using michar version \u001b[1;36m0.1\u001b[0m.\u001b[1;36m1\u001b[0m                                                       \u001b]8;id=553634;file:///var/folders/hl/w6_pkxfd2jv6cjy4d67qkcrc0000gn/T/ipykernel_59566/548079639.py\u001b\\\u001b[2m548079639.py\u001b[0m\u001b]8;;\u001b\\\u001b[2m:\u001b[0m\u001b]8;id=953036;file:///var/folders/hl/w6_pkxfd2jv6cjy4d67qkcrc0000gn/T/ipykernel_59566/548079639.py#4\u001b\\\u001b[2m4\u001b[0m\u001b]8;;\u001b\\\n"
      ]
     },
     "metadata": {},
     "output_type": "display_data"
    }
   ],
   "source": [
    "import michar\n",
    "import michar.api.util as util\n",
    "log = util.get_logger()\n",
    "log.info(f\"Using {michar.__name__} version {michar.__version__}\")"
   ]
  },
  {
   "cell_type": "markdown",
   "metadata": {},
   "source": [
    "## 'crawl' a website for data\n",
    "- this example is for a `.aspx` javascript website"
   ]
  },
  {
   "cell_type": "code",
   "execution_count": 6,
   "metadata": {},
   "outputs": [
    {
     "data": {
      "text/html": [
       "<pre style=\"white-space:pre;overflow-x:auto;line-height:normal;font-family:Menlo,'DejaVu Sans Mono',consolas,'Courier New',monospace\"><span style=\"color: #7fbfbf; text-decoration-color: #7fbfbf\">[14:35:14] </span><span style=\"color: #000080; text-decoration-color: #000080\">INFO    </span> <span style=\"color: #0000ff; text-decoration-color: #0000ff; text-decoration: underline\">https://longbeach.legistar.com/calendar.aspx</span>                                    <a href=\"file:///var/folders/hl/w6_pkxfd2jv6cjy4d67qkcrc0000gn/T/ipykernel_59566/3166417930.py\" target=\"_blank\"><span style=\"color: #7f7f7f; text-decoration-color: #7f7f7f\">3166417930.py</span></a><span style=\"color: #7f7f7f; text-decoration-color: #7f7f7f\">:</span><a href=\"file:///var/folders/hl/w6_pkxfd2jv6cjy4d67qkcrc0000gn/T/ipykernel_59566/3166417930.py#8\" target=\"_blank\"><span style=\"color: #7f7f7f; text-decoration-color: #7f7f7f\">8</span></a>\n",
       "</pre>\n"
      ],
      "text/plain": [
       "\u001b[2;36m[14:35:14]\u001b[0m\u001b[2;36m \u001b[0m\u001b[34mINFO    \u001b[0m \u001b[4;94mhttps://longbeach.legistar.com/calendar.aspx\u001b[0m                                    \u001b]8;id=537974;file:///var/folders/hl/w6_pkxfd2jv6cjy4d67qkcrc0000gn/T/ipykernel_59566/3166417930.py\u001b\\\u001b[2m3166417930.py\u001b[0m\u001b]8;;\u001b\\\u001b[2m:\u001b[0m\u001b]8;id=841193;file:///var/folders/hl/w6_pkxfd2jv6cjy4d67qkcrc0000gn/T/ipykernel_59566/3166417930.py#8\u001b\\\u001b[2m8\u001b[0m\u001b]8;;\u001b\\\n"
      ]
     },
     "metadata": {},
     "output_type": "display_data"
    },
    {
     "ename": "TypeError",
     "evalue": "get_crawler() got an unexpected keyword argument 'source'",
     "output_type": "error",
     "traceback": [
      "\u001b[0;31m---------------------------------------------------------------------------\u001b[0m",
      "\u001b[0;31mTypeError\u001b[0m                                 Traceback (most recent call last)",
      "\u001b[1;32m/Users/boris/dev/michar/docs/notebooks/lbc_calendar.ipynb Cell 4\u001b[0m line \u001b[0;36m1\n\u001b[1;32m      <a href='vscode-notebook-cell:/Users/boris/dev/michar/docs/notebooks/lbc_calendar.ipynb#W3sZmlsZQ%3D%3D?line=7'>8</a>\u001b[0m log\u001b[39m.\u001b[39minfo(url)\n\u001b[1;32m     <a href='vscode-notebook-cell:/Users/boris/dev/michar/docs/notebooks/lbc_calendar.ipynb#W3sZmlsZQ%3D%3D?line=10'>11</a>\u001b[0m \u001b[39m# this will open a browser window for the URL since it's javascript\u001b[39;00m\n\u001b[1;32m     <a href='vscode-notebook-cell:/Users/boris/dev/michar/docs/notebooks/lbc_calendar.ipynb#W3sZmlsZQ%3D%3D?line=11'>12</a>\u001b[0m \u001b[39m# right now it assumes firefox\u001b[39;00m\n\u001b[0;32m---> <a href='vscode-notebook-cell:/Users/boris/dev/michar/docs/notebooks/lbc_calendar.ipynb#W3sZmlsZQ%3D%3D?line=13'>14</a>\u001b[0m krawler: krawlers\u001b[39m.\u001b[39mLbcCrawler \u001b[39m=\u001b[39m krawlers\u001b[39m.\u001b[39;49mget_crawler(url, source\u001b[39m=\u001b[39;49mdata_source)\n\u001b[1;32m     <a href='vscode-notebook-cell:/Users/boris/dev/michar/docs/notebooks/lbc_calendar.ipynb#W3sZmlsZQ%3D%3D?line=14'>15</a>\u001b[0m log\u001b[39m.\u001b[39minfo(krawler)\n",
      "\u001b[0;31mTypeError\u001b[0m: get_crawler() got an unexpected keyword argument 'source'"
     ]
    }
   ],
   "source": [
    "from michar.api.profile import ConfigProfile\n",
    "import michar.api.crawlers.Krawlerz as krawlers\n",
    "profile: ConfigProfile = ConfigProfile()\n",
    "\n",
    "data_source: str = \"lbc\"\n",
    "\n",
    "url: str = profile.get_source_url(source=data_source)\n",
    "log.info(url)\n",
    "\n",
    "\n",
    "# this will open a browser window for the URL since it's javascript\n",
    "# right now it assumes firefox\n",
    "\n",
    "krawler: krawlers.LbcCrawler = krawlers.get_crawler(url=url, source=data_source)\n",
    "log.info(krawler)"
   ]
  },
  {
   "cell_type": "code",
   "execution_count": null,
   "metadata": {},
   "outputs": [],
   "source": [
    "\n",
    "# div_data_test = 'ctl00_ContentPlaceHolder1_divGrid'\n",
    "\n",
    "# content_div = lbc_krawler.get_div(div_id=div_data_test)\n",
    "# log.info(content_div)\n",
    "\n"
   ]
  },
  {
   "cell_type": "code",
   "execution_count": null,
   "id": "b55d1206-e01f-4b85-99fa-dcb557c37364",
   "metadata": {},
   "outputs": [],
   "source": [
    "# element_data_test = 'dynamic element name here'\n",
    "# lbc_krawler.get_element(element_id=element_data_test)\n",
    "# log.info(element_data_test)"
   ]
  },
  {
   "cell_type": "code",
   "execution_count": null,
   "metadata": {},
   "outputs": [],
   "source": [
    "\n",
    "lbc_krawler.shutdown()"
   ]
  }
 ],
 "metadata": {
  "kernelspec": {
   "display_name": "Python 3 (ipykernel)",
   "language": "python",
   "name": "python3"
  },
  "language_info": {
   "codemirror_mode": {
    "name": "ipython",
    "version": 3
   },
   "file_extension": ".py",
   "mimetype": "text/x-python",
   "name": "python",
   "nbconvert_exporter": "python",
   "pygments_lexer": "ipython3",
   "version": "3.12.0"
  }
 },
 "nbformat": 4,
 "nbformat_minor": 5
}
