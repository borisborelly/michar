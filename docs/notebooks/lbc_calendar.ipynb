{
 "cells": [
  {
   "cell_type": "markdown",
   "metadata": {},
   "source": [
    "# Marta Example Michar library \n",
    "1. import michar"
   ]
  },
  {
   "cell_type": "code",
   "execution_count": 1,
   "id": "1aba5266-ee2e-4077-b343-77fcc609ba99",
   "metadata": {},
   "outputs": [
    {
     "data": {
      "text/html": [
       "<pre style=\"white-space:pre;overflow-x:auto;line-height:normal;font-family:Menlo,'DejaVu Sans Mono',consolas,'Courier New',monospace\"><span style=\"color: #7fbfbf; text-decoration-color: #7fbfbf\">[11:17:59] </span><span style=\"color: #000080; text-decoration-color: #000080\">INFO    </span> Using michar version <span style=\"color: #008080; text-decoration-color: #008080; font-weight: bold\">0.1</span>.<span style=\"color: #008080; text-decoration-color: #008080; font-weight: bold\">1</span>                                                       <a href=\"file:///var/folders/hl/w6_pkxfd2jv6cjy4d67qkcrc0000gn/T/ipykernel_57402/548079639.py\" target=\"_blank\"><span style=\"color: #7f7f7f; text-decoration-color: #7f7f7f\">548079639.py</span></a><span style=\"color: #7f7f7f; text-decoration-color: #7f7f7f\">:</span><a href=\"file:///var/folders/hl/w6_pkxfd2jv6cjy4d67qkcrc0000gn/T/ipykernel_57402/548079639.py#4\" target=\"_blank\"><span style=\"color: #7f7f7f; text-decoration-color: #7f7f7f\">4</span></a>\n",
       "</pre>\n"
      ],
      "text/plain": [
       "\u001b[2;36m[11:17:59]\u001b[0m\u001b[2;36m \u001b[0m\u001b[34mINFO    \u001b[0m Using michar version \u001b[1;36m0.1\u001b[0m.\u001b[1;36m1\u001b[0m                                                       \u001b]8;id=279877;file:///var/folders/hl/w6_pkxfd2jv6cjy4d67qkcrc0000gn/T/ipykernel_57402/548079639.py\u001b\\\u001b[2m548079639.py\u001b[0m\u001b]8;;\u001b\\\u001b[2m:\u001b[0m\u001b]8;id=594968;file:///var/folders/hl/w6_pkxfd2jv6cjy4d67qkcrc0000gn/T/ipykernel_57402/548079639.py#4\u001b\\\u001b[2m4\u001b[0m\u001b]8;;\u001b\\\n"
      ]
     },
     "metadata": {},
     "output_type": "display_data"
    }
   ],
   "source": [
    "import michar\n",
    "import michar.api.util as util\n",
    "log = util.get_logger()\n",
    "log.info(f\"Using {michar.__name__} version {michar.__version__}\")"
   ]
  },
  {
   "cell_type": "markdown",
   "metadata": {},
   "source": [
    "## 'crawl' a website for data\n",
    "- this example is for a `.aspx` javascript website"
   ]
  },
  {
   "cell_type": "code",
   "execution_count": 2,
   "metadata": {},
   "outputs": [
    {
     "data": {
      "text/html": [
       "<pre style=\"white-space:pre;overflow-x:auto;line-height:normal;font-family:Menlo,'DejaVu Sans Mono',consolas,'Courier New',monospace\"><span style=\"color: #7fbfbf; text-decoration-color: #7fbfbf\">           </span><span style=\"color: #000080; text-decoration-color: #000080\">INFO    </span> Loading michar config from michar.api.config                                      <a href=\"file:///Users/boris/dev/michar/src/michar/api/profile.py\" target=\"_blank\"><span style=\"color: #7f7f7f; text-decoration-color: #7f7f7f\">profile.py</span></a><span style=\"color: #7f7f7f; text-decoration-color: #7f7f7f\">:</span><a href=\"file:///Users/boris/dev/michar/src/michar/api/profile.py#19\" target=\"_blank\"><span style=\"color: #7f7f7f; text-decoration-color: #7f7f7f\">19</span></a>\n",
       "</pre>\n"
      ],
      "text/plain": [
       "\u001b[2;36m          \u001b[0m\u001b[2;36m \u001b[0m\u001b[34mINFO    \u001b[0m Loading michar config from michar.api.config                                      \u001b]8;id=653119;file:///Users/boris/dev/michar/src/michar/api/profile.py\u001b\\\u001b[2mprofile.py\u001b[0m\u001b]8;;\u001b\\\u001b[2m:\u001b[0m\u001b]8;id=91656;file:///Users/boris/dev/michar/src/michar/api/profile.py#19\u001b\\\u001b[2m19\u001b[0m\u001b]8;;\u001b\\\n"
      ]
     },
     "metadata": {},
     "output_type": "display_data"
    },
    {
     "data": {
      "text/html": [
       "<pre style=\"white-space:pre;overflow-x:auto;line-height:normal;font-family:Menlo,'DejaVu Sans Mono',consolas,'Courier New',monospace\"><span style=\"color: #7fbfbf; text-decoration-color: #7fbfbf\">           </span><span style=\"color: #000080; text-decoration-color: #000080\">INFO    </span> <span style=\"color: #800080; text-decoration-color: #800080\">/Users/boris/dev/michar/src/michar/api/</span><span style=\"color: #ff00ff; text-decoration-color: #ff00ff\">config</span>                                     <a href=\"file:///Users/boris/dev/michar/src/michar/api/profile.py\" target=\"_blank\"><span style=\"color: #7f7f7f; text-decoration-color: #7f7f7f\">profile.py</span></a><span style=\"color: #7f7f7f; text-decoration-color: #7f7f7f\">:</span><a href=\"file:///Users/boris/dev/michar/src/michar/api/profile.py#21\" target=\"_blank\"><span style=\"color: #7f7f7f; text-decoration-color: #7f7f7f\">21</span></a>\n",
       "</pre>\n"
      ],
      "text/plain": [
       "\u001b[2;36m          \u001b[0m\u001b[2;36m \u001b[0m\u001b[34mINFO    \u001b[0m \u001b[35m/Users/boris/dev/michar/src/michar/api/\u001b[0m\u001b[95mconfig\u001b[0m                                     \u001b]8;id=433684;file:///Users/boris/dev/michar/src/michar/api/profile.py\u001b\\\u001b[2mprofile.py\u001b[0m\u001b]8;;\u001b\\\u001b[2m:\u001b[0m\u001b]8;id=284711;file:///Users/boris/dev/michar/src/michar/api/profile.py#21\u001b\\\u001b[2m21\u001b[0m\u001b]8;;\u001b\\\n"
      ]
     },
     "metadata": {},
     "output_type": "display_data"
    },
    {
     "data": {
      "text/html": [
       "<pre style=\"white-space:pre;overflow-x:auto;line-height:normal;font-family:Menlo,'DejaVu Sans Mono',consolas,'Courier New',monospace\"><span style=\"color: #7fbfbf; text-decoration-color: #7fbfbf\">           </span><span style=\"color: #000080; text-decoration-color: #000080\">INFO    </span> <span style=\"font-weight: bold\">{</span><span style=\"color: #008000; text-decoration-color: #008000\">'env'</span>: <span style=\"font-weight: bold\">{</span><span style=\"color: #008000; text-decoration-color: #008000\">'name'</span>: <span style=\"color: #008000; text-decoration-color: #008000\">'michar'</span>, <span style=\"color: #008000; text-decoration-color: #008000\">'sources'</span>: <span style=\"font-weight: bold\">{</span><span style=\"color: #008000; text-decoration-color: #008000\">'lbc'</span>: <span style=\"font-weight: bold\">{</span><span style=\"color: #008000; text-decoration-color: #008000\">'url'</span>:                             <a href=\"file:///Users/boris/dev/michar/src/michar/api/profile.py\" target=\"_blank\"><span style=\"color: #7f7f7f; text-decoration-color: #7f7f7f\">profile.py</span></a><span style=\"color: #7f7f7f; text-decoration-color: #7f7f7f\">:</span><a href=\"file:///Users/boris/dev/michar/src/michar/api/profile.py#24\" target=\"_blank\"><span style=\"color: #7f7f7f; text-decoration-color: #7f7f7f\">24</span></a>\n",
       "<span style=\"color: #7fbfbf; text-decoration-color: #7fbfbf\">           </span>         <span style=\"color: #008000; text-decoration-color: #008000\">'https://longbeach.legistar.com/calendar.aspx'</span><span style=\"font-weight: bold\">}</span>, <span style=\"color: #008000; text-decoration-color: #008000\">'fbi'</span>: <span style=\"font-weight: bold\">{</span><span style=\"color: #008000; text-decoration-color: #008000\">'url'</span>:                   <span style=\"color: #7f7f7f; text-decoration-color: #7f7f7f\">             </span>\n",
       "<span style=\"color: #7fbfbf; text-decoration-color: #7fbfbf\">           </span>         <span style=\"color: #008000; text-decoration-color: #008000\">'https://api.usa.gov/crime/fbi/cde'</span>, <span style=\"color: #008000; text-decoration-color: #008000\">'state_abbrs'</span>: <span style=\"font-weight: bold\">[</span><span style=\"color: #008000; text-decoration-color: #008000\">'AL'</span>, <span style=\"color: #008000; text-decoration-color: #008000\">'AK'</span>, <span style=\"color: #008000; text-decoration-color: #008000\">'AZ'</span>, <span style=\"color: #008000; text-decoration-color: #008000\">'AR'</span>,      <span style=\"color: #7f7f7f; text-decoration-color: #7f7f7f\">             </span>\n",
       "<span style=\"color: #7fbfbf; text-decoration-color: #7fbfbf\">           </span>         <span style=\"color: #008000; text-decoration-color: #008000\">'CA'</span>, <span style=\"color: #008000; text-decoration-color: #008000\">'CO'</span>, <span style=\"color: #008000; text-decoration-color: #008000\">'CT'</span>, <span style=\"color: #008000; text-decoration-color: #008000\">'DE'</span>, <span style=\"color: #008000; text-decoration-color: #008000\">'FL'</span>, <span style=\"color: #008000; text-decoration-color: #008000\">'GA'</span>, <span style=\"color: #008000; text-decoration-color: #008000\">'HI'</span>, <span style=\"color: #008000; text-decoration-color: #008000\">'ID'</span>, <span style=\"color: #008000; text-decoration-color: #008000\">'IL'</span>, <span style=\"color: #008000; text-decoration-color: #008000\">'IN'</span>, <span style=\"color: #008000; text-decoration-color: #008000\">'IA'</span>, <span style=\"color: #008000; text-decoration-color: #008000\">'KS'</span>, <span style=\"color: #008000; text-decoration-color: #008000\">'KY'</span>,     <span style=\"color: #7f7f7f; text-decoration-color: #7f7f7f\">             </span>\n",
       "<span style=\"color: #7fbfbf; text-decoration-color: #7fbfbf\">           </span>         <span style=\"color: #008000; text-decoration-color: #008000\">'LA'</span>, <span style=\"color: #008000; text-decoration-color: #008000\">'ME'</span>, <span style=\"color: #008000; text-decoration-color: #008000\">'MD'</span>, <span style=\"color: #008000; text-decoration-color: #008000\">'MA'</span>, <span style=\"color: #008000; text-decoration-color: #008000\">'MI'</span>, <span style=\"color: #008000; text-decoration-color: #008000\">'MN'</span>, <span style=\"color: #008000; text-decoration-color: #008000\">'MS'</span>, <span style=\"color: #008000; text-decoration-color: #008000\">'MO'</span>, <span style=\"color: #008000; text-decoration-color: #008000\">'MT'</span>, <span style=\"color: #008000; text-decoration-color: #008000\">'NE'</span>, <span style=\"color: #008000; text-decoration-color: #008000\">'NV'</span>, <span style=\"color: #008000; text-decoration-color: #008000\">'NH'</span>, <span style=\"color: #008000; text-decoration-color: #008000\">'NJ'</span>,     <span style=\"color: #7f7f7f; text-decoration-color: #7f7f7f\">             </span>\n",
       "<span style=\"color: #7fbfbf; text-decoration-color: #7fbfbf\">           </span>         <span style=\"color: #008000; text-decoration-color: #008000\">'NM'</span>, <span style=\"color: #008000; text-decoration-color: #008000\">'NY'</span>, <span style=\"color: #008000; text-decoration-color: #008000\">'NC'</span>, <span style=\"color: #008000; text-decoration-color: #008000\">'ND'</span>, <span style=\"color: #008000; text-decoration-color: #008000\">'OH'</span>, <span style=\"color: #008000; text-decoration-color: #008000\">'OK'</span>, <span style=\"color: #008000; text-decoration-color: #008000\">'OR'</span>, <span style=\"color: #008000; text-decoration-color: #008000\">'PA'</span>, <span style=\"color: #008000; text-decoration-color: #008000\">'RI'</span>, <span style=\"color: #008000; text-decoration-color: #008000\">'SC'</span>, <span style=\"color: #008000; text-decoration-color: #008000\">'SD'</span>, <span style=\"color: #008000; text-decoration-color: #008000\">'TN'</span>, <span style=\"color: #008000; text-decoration-color: #008000\">'TX'</span>,     <span style=\"color: #7f7f7f; text-decoration-color: #7f7f7f\">             </span>\n",
       "<span style=\"color: #7fbfbf; text-decoration-color: #7fbfbf\">           </span>         <span style=\"color: #008000; text-decoration-color: #008000\">'UT'</span>, <span style=\"color: #008000; text-decoration-color: #008000\">'VT'</span>, <span style=\"color: #008000; text-decoration-color: #008000\">'VA'</span>, <span style=\"color: #008000; text-decoration-color: #008000\">'WA'</span>, <span style=\"color: #008000; text-decoration-color: #008000\">'WV'</span>, <span style=\"color: #008000; text-decoration-color: #008000\">'WI'</span>, <span style=\"color: #008000; text-decoration-color: #008000\">'WY'</span><span style=\"font-weight: bold\">]}}}}</span>                                     <span style=\"color: #7f7f7f; text-decoration-color: #7f7f7f\">             </span>\n",
       "</pre>\n"
      ],
      "text/plain": [
       "\u001b[2;36m          \u001b[0m\u001b[2;36m \u001b[0m\u001b[34mINFO    \u001b[0m \u001b[1m{\u001b[0m\u001b[32m'env'\u001b[0m: \u001b[1m{\u001b[0m\u001b[32m'name'\u001b[0m: \u001b[32m'michar'\u001b[0m, \u001b[32m'sources'\u001b[0m: \u001b[1m{\u001b[0m\u001b[32m'lbc'\u001b[0m: \u001b[1m{\u001b[0m\u001b[32m'url'\u001b[0m:                             \u001b]8;id=360675;file:///Users/boris/dev/michar/src/michar/api/profile.py\u001b\\\u001b[2mprofile.py\u001b[0m\u001b]8;;\u001b\\\u001b[2m:\u001b[0m\u001b]8;id=888124;file:///Users/boris/dev/michar/src/michar/api/profile.py#24\u001b\\\u001b[2m24\u001b[0m\u001b]8;;\u001b\\\n",
       "\u001b[2;36m           \u001b[0m         \u001b[32m'https://longbeach.legistar.com/calendar.aspx'\u001b[0m\u001b[1m}\u001b[0m, \u001b[32m'fbi'\u001b[0m: \u001b[1m{\u001b[0m\u001b[32m'url'\u001b[0m:                   \u001b[2m             \u001b[0m\n",
       "\u001b[2;36m           \u001b[0m         \u001b[32m'https://api.usa.gov/crime/fbi/cde'\u001b[0m, \u001b[32m'state_abbrs'\u001b[0m: \u001b[1m[\u001b[0m\u001b[32m'AL'\u001b[0m, \u001b[32m'AK'\u001b[0m, \u001b[32m'AZ'\u001b[0m, \u001b[32m'AR'\u001b[0m,      \u001b[2m             \u001b[0m\n",
       "\u001b[2;36m           \u001b[0m         \u001b[32m'CA'\u001b[0m, \u001b[32m'CO'\u001b[0m, \u001b[32m'CT'\u001b[0m, \u001b[32m'DE'\u001b[0m, \u001b[32m'FL'\u001b[0m, \u001b[32m'GA'\u001b[0m, \u001b[32m'HI'\u001b[0m, \u001b[32m'ID'\u001b[0m, \u001b[32m'IL'\u001b[0m, \u001b[32m'IN'\u001b[0m, \u001b[32m'IA'\u001b[0m, \u001b[32m'KS'\u001b[0m, \u001b[32m'KY'\u001b[0m,     \u001b[2m             \u001b[0m\n",
       "\u001b[2;36m           \u001b[0m         \u001b[32m'LA'\u001b[0m, \u001b[32m'ME'\u001b[0m, \u001b[32m'MD'\u001b[0m, \u001b[32m'MA'\u001b[0m, \u001b[32m'MI'\u001b[0m, \u001b[32m'MN'\u001b[0m, \u001b[32m'MS'\u001b[0m, \u001b[32m'MO'\u001b[0m, \u001b[32m'MT'\u001b[0m, \u001b[32m'NE'\u001b[0m, \u001b[32m'NV'\u001b[0m, \u001b[32m'NH'\u001b[0m, \u001b[32m'NJ'\u001b[0m,     \u001b[2m             \u001b[0m\n",
       "\u001b[2;36m           \u001b[0m         \u001b[32m'NM'\u001b[0m, \u001b[32m'NY'\u001b[0m, \u001b[32m'NC'\u001b[0m, \u001b[32m'ND'\u001b[0m, \u001b[32m'OH'\u001b[0m, \u001b[32m'OK'\u001b[0m, \u001b[32m'OR'\u001b[0m, \u001b[32m'PA'\u001b[0m, \u001b[32m'RI'\u001b[0m, \u001b[32m'SC'\u001b[0m, \u001b[32m'SD'\u001b[0m, \u001b[32m'TN'\u001b[0m, \u001b[32m'TX'\u001b[0m,     \u001b[2m             \u001b[0m\n",
       "\u001b[2;36m           \u001b[0m         \u001b[32m'UT'\u001b[0m, \u001b[32m'VT'\u001b[0m, \u001b[32m'VA'\u001b[0m, \u001b[32m'WA'\u001b[0m, \u001b[32m'WV'\u001b[0m, \u001b[32m'WI'\u001b[0m, \u001b[32m'WY'\u001b[0m\u001b[1m]\u001b[0m\u001b[1m}\u001b[0m\u001b[1m}\u001b[0m\u001b[1m}\u001b[0m\u001b[1m}\u001b[0m                                     \u001b[2m             \u001b[0m\n"
      ]
     },
     "metadata": {},
     "output_type": "display_data"
    },
    {
     "name": "stdout",
     "output_type": "stream",
     "text": [
      "ConfigProfile(_config={'env': {'name': 'michar', 'sources': {'lbc': {'url': 'https://longbeach.legistar.com/calendar.aspx'}, 'fbi': {'url': 'https://api.usa.gov/crime/fbi/cde', 'state_abbrs': ['AL', 'AK', 'AZ', 'AR', 'CA', 'CO', 'CT', 'DE', 'FL', 'GA', 'HI', 'ID', 'IL', 'IN', 'IA', 'KS', 'KY', 'LA', 'ME', 'MD', 'MA', 'MI', 'MN', 'MS', 'MO', 'MT', 'NE', 'NV', 'NH', 'NJ', 'NM', 'NY', 'NC', 'ND', 'OH', 'OK', 'OR', 'PA', 'RI', 'SC', 'SD', 'TN', 'TX', 'UT', 'VT', 'VA', 'WA', 'WV', 'WI', 'WY']}}}})\n",
      "{'env': {'name': 'michar', 'sources': {'lbc': {'url': 'https://longbeach.legistar.com/calendar.aspx'}, 'fbi': {'url': 'https://api.usa.gov/crime/fbi/cde', 'state_abbrs': ['AL', 'AK', 'AZ', 'AR', 'CA', 'CO', 'CT', 'DE', 'FL', 'GA', 'HI', 'ID', 'IL', 'IN', 'IA', 'KS', 'KY', 'LA', 'ME', 'MD', 'MA', 'MI', 'MN', 'MS', 'MO', 'MT', 'NE', 'NV', 'NH', 'NJ', 'NM', 'NY', 'NC', 'ND', 'OH', 'OK', 'OR', 'PA', 'RI', 'SC', 'SD', 'TN', 'TX', 'UT', 'VT', 'VA', 'WA', 'WV', 'WI', 'WY']}}}}\n"
     ]
    },
    {
     "data": {
      "text/html": [
       "<pre style=\"white-space:pre;overflow-x:auto;line-height:normal;font-family:Menlo,'DejaVu Sans Mono',consolas,'Courier New',monospace\"><span style=\"color: #7fbfbf; text-decoration-color: #7fbfbf\">[11:18:00] </span><span style=\"color: #800000; text-decoration-color: #800000\">WARNING </span> The geckodriver version <span style=\"font-weight: bold\">(</span><span style=\"color: #008080; text-decoration-color: #008080; font-weight: bold\">0.33</span>.<span style=\"color: #008080; text-decoration-color: #008080; font-weight: bold\">0</span><span style=\"font-weight: bold\">)</span> detected in PATH at                    <a href=\"file:///Users/boris/Library/Caches/pypoetry/virtualenvs/michar-Kjlsv4OL-py3.12/lib/python3.12/site-packages/selenium/webdriver/common/selenium_manager.py\" target=\"_blank\"><span style=\"color: #7f7f7f; text-decoration-color: #7f7f7f\">selenium_manager.py</span></a><span style=\"color: #7f7f7f; text-decoration-color: #7f7f7f\">:</span><a href=\"file:///Users/boris/Library/Caches/pypoetry/virtualenvs/michar-Kjlsv4OL-py3.12/lib/python3.12/site-packages/selenium/webdriver/common/selenium_manager.py#144\" target=\"_blank\"><span style=\"color: #7f7f7f; text-decoration-color: #7f7f7f\">144</span></a>\n",
       "<span style=\"color: #7fbfbf; text-decoration-color: #7fbfbf\">           </span>         <span style=\"color: #800080; text-decoration-color: #800080\">/opt/homebrew/bin/</span><span style=\"color: #ff00ff; text-decoration-color: #ff00ff\">geckodriver</span> might not be compatible with the detected <span style=\"color: #7f7f7f; text-decoration-color: #7f7f7f\">                       </span>\n",
       "<span style=\"color: #7fbfbf; text-decoration-color: #7fbfbf\">           </span>         firefox version <span style=\"font-weight: bold\">(</span><span style=\"color: #008080; text-decoration-color: #008080; font-weight: bold\">121.0</span>.<span style=\"color: #008080; text-decoration-color: #008080; font-weight: bold\">1</span><span style=\"font-weight: bold\">)</span>; currently, geckodriver <span style=\"color: #008080; text-decoration-color: #008080; font-weight: bold\">0.34</span>.<span style=\"color: #008080; text-decoration-color: #008080; font-weight: bold\">0</span> is recommended <span style=\"color: #7f7f7f; text-decoration-color: #7f7f7f\">                       </span>\n",
       "<span style=\"color: #7fbfbf; text-decoration-color: #7fbfbf\">           </span>         for firefox <span style=\"color: #008080; text-decoration-color: #008080; font-weight: bold\">121</span>.*, so it is advised to delete the driver in PATH and    <span style=\"color: #7f7f7f; text-decoration-color: #7f7f7f\">                       </span>\n",
       "<span style=\"color: #7fbfbf; text-decoration-color: #7fbfbf\">           </span>         retry                                                                   <span style=\"color: #7f7f7f; text-decoration-color: #7f7f7f\">                       </span>\n",
       "</pre>\n"
      ],
      "text/plain": [
       "\u001b[2;36m[11:18:00]\u001b[0m\u001b[2;36m \u001b[0m\u001b[31mWARNING \u001b[0m The geckodriver version \u001b[1m(\u001b[0m\u001b[1;36m0.33\u001b[0m.\u001b[1;36m0\u001b[0m\u001b[1m)\u001b[0m detected in PATH at                    \u001b]8;id=379237;file:///Users/boris/Library/Caches/pypoetry/virtualenvs/michar-Kjlsv4OL-py3.12/lib/python3.12/site-packages/selenium/webdriver/common/selenium_manager.py\u001b\\\u001b[2mselenium_manager.py\u001b[0m\u001b]8;;\u001b\\\u001b[2m:\u001b[0m\u001b]8;id=719837;file:///Users/boris/Library/Caches/pypoetry/virtualenvs/michar-Kjlsv4OL-py3.12/lib/python3.12/site-packages/selenium/webdriver/common/selenium_manager.py#144\u001b\\\u001b[2m144\u001b[0m\u001b]8;;\u001b\\\n",
       "\u001b[2;36m           \u001b[0m         \u001b[35m/opt/homebrew/bin/\u001b[0m\u001b[95mgeckodriver\u001b[0m might not be compatible with the detected \u001b[2m                       \u001b[0m\n",
       "\u001b[2;36m           \u001b[0m         firefox version \u001b[1m(\u001b[0m\u001b[1;36m121.0\u001b[0m.\u001b[1;36m1\u001b[0m\u001b[1m)\u001b[0m; currently, geckodriver \u001b[1;36m0.34\u001b[0m.\u001b[1;36m0\u001b[0m is recommended \u001b[2m                       \u001b[0m\n",
       "\u001b[2;36m           \u001b[0m         for firefox \u001b[1;36m121\u001b[0m.*, so it is advised to delete the driver in PATH and    \u001b[2m                       \u001b[0m\n",
       "\u001b[2;36m           \u001b[0m         retry                                                                   \u001b[2m                       \u001b[0m\n"
      ]
     },
     "metadata": {},
     "output_type": "display_data"
    }
   ],
   "source": [
    "from michar.api.profile import ConfigProfile\n",
    "import michar.api.crawlers.Krawlerz as krawlers\n",
    "profile: ConfigProfile = ConfigProfile()\n",
    "\n",
    "url: str = profile.get_source_url(source=\"lbc\")\n",
    "log.info(url)\n",
    "\n",
    "\n",
    "# this will open a browser window for the URL since it's javascript\n",
    "# right now it assumes firefox\n",
    "\n",
    "krawler: krawlers.Krawl = krawlers.get_crawler(url=url)\n",
    "log.info(krawler)"
   ]
  },
  {
   "cell_type": "code",
   "execution_count": 3,
   "metadata": {},
   "outputs": [],
   "source": [
    "\n",
    "# div_data_test = 'ctl00_ContentPlaceHolder1_divGrid'\n",
    "\n",
    "# content_div = lbc_krawler.get_div(div_id=div_data_test)\n",
    "# log.info(content_div)\n",
    "\n"
   ]
  },
  {
   "cell_type": "code",
   "execution_count": 4,
   "id": "b55d1206-e01f-4b85-99fa-dcb557c37364",
   "metadata": {},
   "outputs": [],
   "source": [
    "# element_data_test = 'dynamic element name here'\n",
    "# lbc_krawler.get_element(element_id=element_data_test)\n",
    "# log.info(element_data_test)"
   ]
  },
  {
   "cell_type": "code",
   "execution_count": 5,
   "metadata": {},
   "outputs": [],
   "source": [
    "\n",
    "#lbc_krawler.shutdown()"
   ]
  }
 ],
 "metadata": {
  "kernelspec": {
   "display_name": "Python 3 (ipykernel)",
   "language": "python",
   "name": "python3"
  },
  "language_info": {
   "codemirror_mode": {
    "name": "ipython",
    "version": 3
   },
   "file_extension": ".py",
   "mimetype": "text/x-python",
   "name": "python",
   "nbconvert_exporter": "python",
   "pygments_lexer": "ipython3",
   "version": "3.12.0"
  }
 },
 "nbformat": 4,
 "nbformat_minor": 5
}
