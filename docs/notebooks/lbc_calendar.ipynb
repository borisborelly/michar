{
 "cells": [
  {
   "cell_type": "markdown",
   "metadata": {},
   "source": [
    "# Marta Example Michar library \n",
    "1. import michar"
   ]
  },
  {
   "cell_type": "code",
   "execution_count": 6,
   "id": "1aba5266-ee2e-4077-b343-77fcc609ba99",
   "metadata": {},
   "outputs": [
    {
     "data": {
      "text/html": [
       "<pre style=\"white-space:pre;overflow-x:auto;line-height:normal;font-family:Menlo,'DejaVu Sans Mono',consolas,'Courier New',monospace\"><span style=\"color: #7fbfbf; text-decoration-color: #7fbfbf\">[17:46:19] </span><span style=\"color: #000080; text-decoration-color: #000080\">INFO    </span> Using michar version <span style=\"color: #008080; text-decoration-color: #008080; font-weight: bold\">0.1</span>.<span style=\"color: #008080; text-decoration-color: #008080; font-weight: bold\">1</span>                                                       <a href=\"file:///var/folders/hl/w6_pkxfd2jv6cjy4d67qkcrc0000gn/T/ipykernel_3512/548079639.py\" target=\"_blank\"><span style=\"color: #7f7f7f; text-decoration-color: #7f7f7f\">548079639.py</span></a><span style=\"color: #7f7f7f; text-decoration-color: #7f7f7f\">:</span><a href=\"file:///var/folders/hl/w6_pkxfd2jv6cjy4d67qkcrc0000gn/T/ipykernel_3512/548079639.py#4\" target=\"_blank\"><span style=\"color: #7f7f7f; text-decoration-color: #7f7f7f\">4</span></a>\n",
       "</pre>\n"
      ],
      "text/plain": [
       "\u001b[2;36m[17:46:19]\u001b[0m\u001b[2;36m \u001b[0m\u001b[34mINFO    \u001b[0m Using michar version \u001b[1;36m0.1\u001b[0m.\u001b[1;36m1\u001b[0m                                                       \u001b]8;id=659077;file:///var/folders/hl/w6_pkxfd2jv6cjy4d67qkcrc0000gn/T/ipykernel_3512/548079639.py\u001b\\\u001b[2m548079639.py\u001b[0m\u001b]8;;\u001b\\\u001b[2m:\u001b[0m\u001b]8;id=551388;file:///var/folders/hl/w6_pkxfd2jv6cjy4d67qkcrc0000gn/T/ipykernel_3512/548079639.py#4\u001b\\\u001b[2m4\u001b[0m\u001b]8;;\u001b\\\n"
      ]
     },
     "metadata": {},
     "output_type": "display_data"
    }
   ],
   "source": [
    "import michar\n",
    "import michar.api.util as util\n",
    "log = util.get_logger()\n",
    "log.info(f\"Using {michar.__name__} version {michar.__version__}\")"
   ]
  },
  {
   "cell_type": "markdown",
   "metadata": {},
   "source": [
    "## 'crawl' a website for data\n",
    "- this example is for a `.aspx` javascript website"
   ]
  },
  {
   "cell_type": "code",
   "execution_count": 7,
   "metadata": {},
   "outputs": [
    {
     "data": {
      "text/html": [
       "<pre style=\"white-space:pre;overflow-x:auto;line-height:normal;font-family:Menlo,'DejaVu Sans Mono',consolas,'Courier New',monospace\"><span style=\"color: #7fbfbf; text-decoration-color: #7fbfbf\">           </span><span style=\"color: #800000; text-decoration-color: #800000\">WARNING </span> The geckodriver version <span style=\"font-weight: bold\">(</span><span style=\"color: #008080; text-decoration-color: #008080; font-weight: bold\">0.33</span>.<span style=\"color: #008080; text-decoration-color: #008080; font-weight: bold\">0</span><span style=\"font-weight: bold\">)</span> detected in PATH at                    <a href=\"file:///Users/boris/Library/Caches/pypoetry/virtualenvs/michar-Kjlsv4OL-py3.12/lib/python3.12/site-packages/selenium/webdriver/common/selenium_manager.py\" target=\"_blank\"><span style=\"color: #7f7f7f; text-decoration-color: #7f7f7f\">selenium_manager.py</span></a><span style=\"color: #7f7f7f; text-decoration-color: #7f7f7f\">:</span><a href=\"file:///Users/boris/Library/Caches/pypoetry/virtualenvs/michar-Kjlsv4OL-py3.12/lib/python3.12/site-packages/selenium/webdriver/common/selenium_manager.py#144\" target=\"_blank\"><span style=\"color: #7f7f7f; text-decoration-color: #7f7f7f\">144</span></a>\n",
       "<span style=\"color: #7fbfbf; text-decoration-color: #7fbfbf\">           </span>         <span style=\"color: #800080; text-decoration-color: #800080\">/opt/homebrew/bin/</span><span style=\"color: #ff00ff; text-decoration-color: #ff00ff\">geckodriver</span> might not be compatible with the detected <span style=\"color: #7f7f7f; text-decoration-color: #7f7f7f\">                       </span>\n",
       "<span style=\"color: #7fbfbf; text-decoration-color: #7fbfbf\">           </span>         firefox version <span style=\"font-weight: bold\">(</span><span style=\"color: #008080; text-decoration-color: #008080; font-weight: bold\">121.0</span>.<span style=\"color: #008080; text-decoration-color: #008080; font-weight: bold\">1</span><span style=\"font-weight: bold\">)</span>; currently, geckodriver <span style=\"color: #008080; text-decoration-color: #008080; font-weight: bold\">0.34</span>.<span style=\"color: #008080; text-decoration-color: #008080; font-weight: bold\">0</span> is recommended <span style=\"color: #7f7f7f; text-decoration-color: #7f7f7f\">                       </span>\n",
       "<span style=\"color: #7fbfbf; text-decoration-color: #7fbfbf\">           </span>         for firefox <span style=\"color: #008080; text-decoration-color: #008080; font-weight: bold\">121</span>.*, so it is advised to delete the driver in PATH and    <span style=\"color: #7f7f7f; text-decoration-color: #7f7f7f\">                       </span>\n",
       "<span style=\"color: #7fbfbf; text-decoration-color: #7fbfbf\">           </span>         retry                                                                   <span style=\"color: #7f7f7f; text-decoration-color: #7f7f7f\">                       </span>\n",
       "</pre>\n"
      ],
      "text/plain": [
       "\u001b[2;36m          \u001b[0m\u001b[2;36m \u001b[0m\u001b[31mWARNING \u001b[0m The geckodriver version \u001b[1m(\u001b[0m\u001b[1;36m0.33\u001b[0m.\u001b[1;36m0\u001b[0m\u001b[1m)\u001b[0m detected in PATH at                    \u001b]8;id=92149;file:///Users/boris/Library/Caches/pypoetry/virtualenvs/michar-Kjlsv4OL-py3.12/lib/python3.12/site-packages/selenium/webdriver/common/selenium_manager.py\u001b\\\u001b[2mselenium_manager.py\u001b[0m\u001b]8;;\u001b\\\u001b[2m:\u001b[0m\u001b]8;id=26817;file:///Users/boris/Library/Caches/pypoetry/virtualenvs/michar-Kjlsv4OL-py3.12/lib/python3.12/site-packages/selenium/webdriver/common/selenium_manager.py#144\u001b\\\u001b[2m144\u001b[0m\u001b]8;;\u001b\\\n",
       "\u001b[2;36m           \u001b[0m         \u001b[35m/opt/homebrew/bin/\u001b[0m\u001b[95mgeckodriver\u001b[0m might not be compatible with the detected \u001b[2m                       \u001b[0m\n",
       "\u001b[2;36m           \u001b[0m         firefox version \u001b[1m(\u001b[0m\u001b[1;36m121.0\u001b[0m.\u001b[1;36m1\u001b[0m\u001b[1m)\u001b[0m; currently, geckodriver \u001b[1;36m0.34\u001b[0m.\u001b[1;36m0\u001b[0m is recommended \u001b[2m                       \u001b[0m\n",
       "\u001b[2;36m           \u001b[0m         for firefox \u001b[1;36m121\u001b[0m.*, so it is advised to delete the driver in PATH and    \u001b[2m                       \u001b[0m\n",
       "\u001b[2;36m           \u001b[0m         retry                                                                   \u001b[2m                       \u001b[0m\n"
      ]
     },
     "metadata": {},
     "output_type": "display_data"
    }
   ],
   "source": [
    "URL = \"https://longbeach.legistar.com/Calendar.aspx\"\n",
    "\n",
    "# this will open a browser window for the URL since it's javascript\n",
    "# right now it assumes firefox\n",
    "lbc_krawler: util.Krawl = util.get_crawler(url=URL)\n"
   ]
  },
  {
   "cell_type": "code",
   "execution_count": 8,
   "metadata": {},
   "outputs": [
    {
     "data": {
      "text/html": [
       "<pre style=\"white-space:pre;overflow-x:auto;line-height:normal;font-family:Menlo,'DejaVu Sans Mono',consolas,'Courier New',monospace\"><span style=\"color: #7fbfbf; text-decoration-color: #7fbfbf\">[17:46:24] </span><span style=\"color: #000080; text-decoration-color: #000080\">INFO    </span> <span style=\"font-weight: bold\">&lt;</span><span style=\"color: #ff00ff; text-decoration-color: #ff00ff; font-weight: bold\">selenium.webdriver.remote.webelement.WebElement</span><span style=\"color: #000000; text-decoration-color: #000000\"> </span>                               <a href=\"file:///var/folders/hl/w6_pkxfd2jv6cjy4d67qkcrc0000gn/T/ipykernel_3512/3552996729.py\" target=\"_blank\"><span style=\"color: #7f7f7f; text-decoration-color: #7f7f7f\">3552996729.py</span></a><span style=\"color: #7f7f7f; text-decoration-color: #7f7f7f\">:</span><a href=\"file:///var/folders/hl/w6_pkxfd2jv6cjy4d67qkcrc0000gn/T/ipykernel_3512/3552996729.py#4\" target=\"_blank\"><span style=\"color: #7f7f7f; text-decoration-color: #7f7f7f\">4</span></a>\n",
       "<span style=\"color: #7fbfbf; text-decoration-color: #7fbfbf\">           </span>         <span style=\"color: #000000; text-decoration-color: #000000; font-weight: bold\">(</span><span style=\"color: #808000; text-decoration-color: #808000\">session</span><span style=\"color: #000000; text-decoration-color: #000000\">=</span><span style=\"color: #008000; text-decoration-color: #008000\">\"9e8e9474-ce9e-4c4d-b3fd-aba39638e448\"</span><span style=\"color: #000000; text-decoration-color: #000000\">, </span>                               <span style=\"color: #7f7f7f; text-decoration-color: #7f7f7f\">               </span>\n",
       "<span style=\"color: #7fbfbf; text-decoration-color: #7fbfbf\">           </span>         <span style=\"color: #808000; text-decoration-color: #808000\">element</span><span style=\"color: #000000; text-decoration-color: #000000\">=</span><span style=\"color: #008000; text-decoration-color: #008000\">\"700e4cb5-bc1d-49a4-ab64-eb48c9debe83\"</span><span style=\"color: #000000; text-decoration-color: #000000; font-weight: bold\">)</span><span style=\"font-weight: bold\">&gt;</span>                                <span style=\"color: #7f7f7f; text-decoration-color: #7f7f7f\">               </span>\n",
       "</pre>\n"
      ],
      "text/plain": [
       "\u001b[2;36m[17:46:24]\u001b[0m\u001b[2;36m \u001b[0m\u001b[34mINFO    \u001b[0m \u001b[1m<\u001b[0m\u001b[1;95mselenium.webdriver.remote.webelement.WebElement\u001b[0m\u001b[39m \u001b[0m                               \u001b]8;id=999457;file:///var/folders/hl/w6_pkxfd2jv6cjy4d67qkcrc0000gn/T/ipykernel_3512/3552996729.py\u001b\\\u001b[2m3552996729.py\u001b[0m\u001b]8;;\u001b\\\u001b[2m:\u001b[0m\u001b]8;id=374793;file:///var/folders/hl/w6_pkxfd2jv6cjy4d67qkcrc0000gn/T/ipykernel_3512/3552996729.py#4\u001b\\\u001b[2m4\u001b[0m\u001b]8;;\u001b\\\n",
       "\u001b[2;36m           \u001b[0m         \u001b[1;39m(\u001b[0m\u001b[33msession\u001b[0m\u001b[39m=\u001b[0m\u001b[32m\"9e8e9474\u001b[0m\u001b[32m-ce9e-4c4d-b3fd-aba39638e448\"\u001b[0m\u001b[39m, \u001b[0m                               \u001b[2m               \u001b[0m\n",
       "\u001b[2;36m           \u001b[0m         \u001b[33melement\u001b[0m\u001b[39m=\u001b[0m\u001b[32m\"700e4cb5\u001b[0m\u001b[32m-bc1d-49a4-ab64-eb48c9debe83\"\u001b[0m\u001b[1;39m)\u001b[0m\u001b[1m>\u001b[0m                                \u001b[2m               \u001b[0m\n"
      ]
     },
     "metadata": {},
     "output_type": "display_data"
    }
   ],
   "source": [
    "\n",
    "div_data_test = 'ctl00_ContentPlaceHolder1_divGrid'\n",
    "\n",
    "content_div = lbc_krawler.get_div(div_id=div_data_test)\n",
    "log.info(content_div)\n",
    "\n"
   ]
  },
  {
   "cell_type": "code",
   "execution_count": 9,
   "id": "b55d1206-e01f-4b85-99fa-dcb557c37364",
   "metadata": {},
   "outputs": [],
   "source": [
    "# element_data_test = 'dynamic element name here'\n",
    "# lbc_krawler.get_element(element_id=element_data_test)\n",
    "# log.info(element_data_test)"
   ]
  },
  {
   "cell_type": "code",
   "execution_count": 10,
   "metadata": {},
   "outputs": [],
   "source": [
    "\n",
    "lbc_krawler.shutdown()"
   ]
  }
 ],
 "metadata": {
  "kernelspec": {
   "display_name": "Python 3 (ipykernel)",
   "language": "python",
   "name": "python3"
  },
  "language_info": {
   "codemirror_mode": {
    "name": "ipython",
    "version": 3
   },
   "file_extension": ".py",
   "mimetype": "text/x-python",
   "name": "python",
   "nbconvert_exporter": "python",
   "pygments_lexer": "ipython3",
   "version": "3.12.0"
  }
 },
 "nbformat": 4,
 "nbformat_minor": 5
}
