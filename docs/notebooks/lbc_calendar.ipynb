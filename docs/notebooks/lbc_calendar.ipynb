{
 "cells": [
  {
   "cell_type": "markdown",
   "metadata": {},
   "source": [
    "# Marta Example Michar library \n",
    "## Crawling LBC for data using the Legistar API\n",
    "- https://webapi.legistar.com/Home/Examples\n",
    "1. import michar"
   ]
  },
  {
   "cell_type": "code",
   "execution_count": null,
   "id": "1aba5266-ee2e-4077-b343-77fcc609ba99",
   "metadata": {},
   "outputs": [],
   "source": [
    "import michar\n",
    "import michar.api.util as util\n",
    "log = util.get_logger()\n",
    "log.info(f\"Using {michar.__name__} version {michar.__version__}\")"
   ]
  },
  {
   "cell_type": "markdown",
   "metadata": {},
   "source": [
    "## set up the LBC scraper"
   ]
  },
  {
   "cell_type": "code",
   "execution_count": null,
   "metadata": {},
   "outputs": [],
   "source": [
    "from michar.api.crawlers.Krawlerz import LegistarScraper, get_crawler\n",
    "krawler: LegistarScraper = get_crawler(source=\"lbc\")"
   ]
  },
  {
   "cell_type": "markdown",
   "metadata": {},
   "source": [
    "### Show results of \"events\" query\n",
    "- Note there are no filters specified"
   ]
  },
  {
   "cell_type": "code",
   "execution_count": null,
   "metadata": {},
   "outputs": [],
   "source": [
    "print(\"legistar events\")\n",
    "events = krawler.events"
   ]
  },
  {
   "cell_type": "markdown",
   "metadata": {},
   "source": [
    "### Show results of \"matters\" query\n",
    "- Note there are no filters specified"
   ]
  },
  {
   "cell_type": "code",
   "execution_count": null,
   "metadata": {},
   "outputs": [],
   "source": [
    "print(\"legistar matters\")\n",
    "matters = krawler.matters"
   ]
  },
  {
   "cell_type": "markdown",
   "metadata": {},
   "source": []
  }
 ],
 "metadata": {
  "kernelspec": {
   "display_name": "Python 3 (ipykernel)",
   "language": "python",
   "name": "python3"
  },
  "language_info": {
   "codemirror_mode": {
    "name": "ipython",
    "version": 3
   },
   "file_extension": ".py",
   "mimetype": "text/x-python",
   "name": "python",
   "nbconvert_exporter": "python",
   "pygments_lexer": "ipython3",
   "version": "3.12.1"
  }
 },
 "nbformat": 4,
 "nbformat_minor": 5
}
