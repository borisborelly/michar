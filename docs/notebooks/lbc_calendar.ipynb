{
 "cells": [
  {
   "cell_type": "markdown",
   "metadata": {},
   "source": [
    "# Marta Example Michar library \n",
    "1. import michar"
   ]
  },
  {
   "cell_type": "code",
   "execution_count": 7,
   "id": "1aba5266-ee2e-4077-b343-77fcc609ba99",
   "metadata": {},
   "outputs": [
    {
     "data": {
      "text/html": [
       "<pre style=\"white-space:pre;overflow-x:auto;line-height:normal;font-family:Menlo,'DejaVu Sans Mono',consolas,'Courier New',monospace\"><span style=\"color: #7fbfbf; text-decoration-color: #7fbfbf\">[14:37:36] </span><span style=\"color: #000080; text-decoration-color: #000080\">INFO    </span> Using michar version <span style=\"color: #008080; text-decoration-color: #008080; font-weight: bold\">0.1</span>.<span style=\"color: #008080; text-decoration-color: #008080; font-weight: bold\">1</span>                                                       <a href=\"file:///var/folders/hl/w6_pkxfd2jv6cjy4d67qkcrc0000gn/T/ipykernel_89126/548079639.py\" target=\"_blank\"><span style=\"color: #7f7f7f; text-decoration-color: #7f7f7f\">548079639.py</span></a><span style=\"color: #7f7f7f; text-decoration-color: #7f7f7f\">:</span><a href=\"file:///var/folders/hl/w6_pkxfd2jv6cjy4d67qkcrc0000gn/T/ipykernel_89126/548079639.py#4\" target=\"_blank\"><span style=\"color: #7f7f7f; text-decoration-color: #7f7f7f\">4</span></a>\n",
       "</pre>\n"
      ],
      "text/plain": [
       "\u001b[2;36m[14:37:36]\u001b[0m\u001b[2;36m \u001b[0m\u001b[34mINFO    \u001b[0m Using michar version \u001b[1;36m0.1\u001b[0m.\u001b[1;36m1\u001b[0m                                                       \u001b]8;id=214958;file:///var/folders/hl/w6_pkxfd2jv6cjy4d67qkcrc0000gn/T/ipykernel_89126/548079639.py\u001b\\\u001b[2m548079639.py\u001b[0m\u001b]8;;\u001b\\\u001b[2m:\u001b[0m\u001b]8;id=397645;file:///var/folders/hl/w6_pkxfd2jv6cjy4d67qkcrc0000gn/T/ipykernel_89126/548079639.py#4\u001b\\\u001b[2m4\u001b[0m\u001b]8;;\u001b\\\n"
      ]
     },
     "metadata": {},
     "output_type": "display_data"
    }
   ],
   "source": [
    "import michar\n",
    "import michar.api.util as util\n",
    "log = util.get_logger()\n",
    "log.info(f\"Using {michar.__name__} version {michar.__version__}\")"
   ]
  },
  {
   "cell_type": "markdown",
   "metadata": {},
   "source": [
    "## 'crawl' a website for data\n",
    "- this example is for a `.aspx` javascript website"
   ]
  },
  {
   "cell_type": "code",
   "execution_count": 8,
   "metadata": {},
   "outputs": [
    {
     "data": {
      "text/html": [
       "<pre style=\"white-space:pre;overflow-x:auto;line-height:normal;font-family:Menlo,'DejaVu Sans Mono',consolas,'Courier New',monospace\"><span style=\"color: #7fbfbf; text-decoration-color: #7fbfbf\">           </span><span style=\"color: #000080; text-decoration-color: #000080\">INFO    </span> <span style=\"color: #0000ff; text-decoration-color: #0000ff; text-decoration: underline\">https://longbeach.legistar.com/calendar.aspx</span>                                    <a href=\"file:///var/folders/hl/w6_pkxfd2jv6cjy4d67qkcrc0000gn/T/ipykernel_89126/3586244944.py\" target=\"_blank\"><span style=\"color: #7f7f7f; text-decoration-color: #7f7f7f\">3586244944.py</span></a><span style=\"color: #7f7f7f; text-decoration-color: #7f7f7f\">:</span><a href=\"file:///var/folders/hl/w6_pkxfd2jv6cjy4d67qkcrc0000gn/T/ipykernel_89126/3586244944.py#8\" target=\"_blank\"><span style=\"color: #7f7f7f; text-decoration-color: #7f7f7f\">8</span></a>\n",
       "</pre>\n"
      ],
      "text/plain": [
       "\u001b[2;36m          \u001b[0m\u001b[2;36m \u001b[0m\u001b[34mINFO    \u001b[0m \u001b[4;94mhttps://longbeach.legistar.com/calendar.aspx\u001b[0m                                    \u001b]8;id=964813;file:///var/folders/hl/w6_pkxfd2jv6cjy4d67qkcrc0000gn/T/ipykernel_89126/3586244944.py\u001b\\\u001b[2m3586244944.py\u001b[0m\u001b]8;;\u001b\\\u001b[2m:\u001b[0m\u001b]8;id=456495;file:///var/folders/hl/w6_pkxfd2jv6cjy4d67qkcrc0000gn/T/ipykernel_89126/3586244944.py#8\u001b\\\u001b[2m8\u001b[0m\u001b]8;;\u001b\\\n"
      ]
     },
     "metadata": {},
     "output_type": "display_data"
    },
    {
     "data": {
      "text/html": [
       "<pre style=\"white-space:pre;overflow-x:auto;line-height:normal;font-family:Menlo,'DejaVu Sans Mono',consolas,'Courier New',monospace\"><span style=\"color: #7fbfbf; text-decoration-color: #7fbfbf\">           </span><span style=\"color: #800000; text-decoration-color: #800000\">WARNING </span> The geckodriver version <span style=\"font-weight: bold\">(</span><span style=\"color: #008080; text-decoration-color: #008080; font-weight: bold\">0.33</span>.<span style=\"color: #008080; text-decoration-color: #008080; font-weight: bold\">0</span><span style=\"font-weight: bold\">)</span> detected in PATH at                    <a href=\"file:///Users/boris/Library/Caches/pypoetry/virtualenvs/michar-Kjlsv4OL-py3.12/lib/python3.12/site-packages/selenium/webdriver/common/selenium_manager.py\" target=\"_blank\"><span style=\"color: #7f7f7f; text-decoration-color: #7f7f7f\">selenium_manager.py</span></a><span style=\"color: #7f7f7f; text-decoration-color: #7f7f7f\">:</span><a href=\"file:///Users/boris/Library/Caches/pypoetry/virtualenvs/michar-Kjlsv4OL-py3.12/lib/python3.12/site-packages/selenium/webdriver/common/selenium_manager.py#144\" target=\"_blank\"><span style=\"color: #7f7f7f; text-decoration-color: #7f7f7f\">144</span></a>\n",
       "<span style=\"color: #7fbfbf; text-decoration-color: #7fbfbf\">           </span>         <span style=\"color: #800080; text-decoration-color: #800080\">/opt/homebrew/bin/</span><span style=\"color: #ff00ff; text-decoration-color: #ff00ff\">geckodriver</span> might not be compatible with the detected <span style=\"color: #7f7f7f; text-decoration-color: #7f7f7f\">                       </span>\n",
       "<span style=\"color: #7fbfbf; text-decoration-color: #7fbfbf\">           </span>         firefox version <span style=\"font-weight: bold\">(</span><span style=\"color: #008080; text-decoration-color: #008080; font-weight: bold\">121.0</span>.<span style=\"color: #008080; text-decoration-color: #008080; font-weight: bold\">1</span><span style=\"font-weight: bold\">)</span>; currently, geckodriver <span style=\"color: #008080; text-decoration-color: #008080; font-weight: bold\">0.34</span>.<span style=\"color: #008080; text-decoration-color: #008080; font-weight: bold\">0</span> is recommended <span style=\"color: #7f7f7f; text-decoration-color: #7f7f7f\">                       </span>\n",
       "<span style=\"color: #7fbfbf; text-decoration-color: #7fbfbf\">           </span>         for firefox <span style=\"color: #008080; text-decoration-color: #008080; font-weight: bold\">121</span>.*, so it is advised to delete the driver in PATH and    <span style=\"color: #7f7f7f; text-decoration-color: #7f7f7f\">                       </span>\n",
       "<span style=\"color: #7fbfbf; text-decoration-color: #7fbfbf\">           </span>         retry                                                                   <span style=\"color: #7f7f7f; text-decoration-color: #7f7f7f\">                       </span>\n",
       "</pre>\n"
      ],
      "text/plain": [
       "\u001b[2;36m          \u001b[0m\u001b[2;36m \u001b[0m\u001b[31mWARNING \u001b[0m The geckodriver version \u001b[1m(\u001b[0m\u001b[1;36m0.33\u001b[0m.\u001b[1;36m0\u001b[0m\u001b[1m)\u001b[0m detected in PATH at                    \u001b]8;id=921508;file:///Users/boris/Library/Caches/pypoetry/virtualenvs/michar-Kjlsv4OL-py3.12/lib/python3.12/site-packages/selenium/webdriver/common/selenium_manager.py\u001b\\\u001b[2mselenium_manager.py\u001b[0m\u001b]8;;\u001b\\\u001b[2m:\u001b[0m\u001b]8;id=768980;file:///Users/boris/Library/Caches/pypoetry/virtualenvs/michar-Kjlsv4OL-py3.12/lib/python3.12/site-packages/selenium/webdriver/common/selenium_manager.py#144\u001b\\\u001b[2m144\u001b[0m\u001b]8;;\u001b\\\n",
       "\u001b[2;36m           \u001b[0m         \u001b[35m/opt/homebrew/bin/\u001b[0m\u001b[95mgeckodriver\u001b[0m might not be compatible with the detected \u001b[2m                       \u001b[0m\n",
       "\u001b[2;36m           \u001b[0m         firefox version \u001b[1m(\u001b[0m\u001b[1;36m121.0\u001b[0m.\u001b[1;36m1\u001b[0m\u001b[1m)\u001b[0m; currently, geckodriver \u001b[1;36m0.34\u001b[0m.\u001b[1;36m0\u001b[0m is recommended \u001b[2m                       \u001b[0m\n",
       "\u001b[2;36m           \u001b[0m         for firefox \u001b[1;36m121\u001b[0m.*, so it is advised to delete the driver in PATH and    \u001b[2m                       \u001b[0m\n",
       "\u001b[2;36m           \u001b[0m         retry                                                                   \u001b[2m                       \u001b[0m\n"
      ]
     },
     "metadata": {},
     "output_type": "display_data"
    },
    {
     "data": {
      "text/html": [
       "<pre style=\"white-space:pre;overflow-x:auto;line-height:normal;font-family:Menlo,'DejaVu Sans Mono',consolas,'Courier New',monospace\"><span style=\"color: #7fbfbf; text-decoration-color: #7fbfbf\">[14:37:41] </span><span style=\"color: #000080; text-decoration-color: #000080\">INFO    </span> <span style=\"color: #800080; text-decoration-color: #800080; font-weight: bold\">LbcCrawler</span><span style=\"font-weight: bold\">(</span><span style=\"color: #808000; text-decoration-color: #808000\">url</span>=<span style=\"color: #008000; text-decoration-color: #008000\">'https://longbeach.legistar.com/calendar.aspx'</span>,                 <a href=\"file:///var/folders/hl/w6_pkxfd2jv6cjy4d67qkcrc0000gn/T/ipykernel_89126/3586244944.py\" target=\"_blank\"><span style=\"color: #7f7f7f; text-decoration-color: #7f7f7f\">3586244944.py</span></a><span style=\"color: #7f7f7f; text-decoration-color: #7f7f7f\">:</span><a href=\"file:///var/folders/hl/w6_pkxfd2jv6cjy4d67qkcrc0000gn/T/ipykernel_89126/3586244944.py#15\" target=\"_blank\"><span style=\"color: #7f7f7f; text-decoration-color: #7f7f7f\">15</span></a>\n",
       "<span style=\"color: #7fbfbf; text-decoration-color: #7fbfbf\">           </span>         <span style=\"color: #808000; text-decoration-color: #808000\">browser</span>=<span style=\"color: #008000; text-decoration-color: #008000\">'Firefox'</span>, <span style=\"color: #808000; text-decoration-color: #808000\">_driver</span>=<span style=\"font-weight: bold\">&lt;</span><span style=\"color: #ff00ff; text-decoration-color: #ff00ff; font-weight: bold\">selenium.webdriver.firefox.webdriver.WebDriver</span><span style=\"color: #000000; text-decoration-color: #000000\"> </span>    <span style=\"color: #7f7f7f; text-decoration-color: #7f7f7f\">                </span>\n",
       "<span style=\"color: #7fbfbf; text-decoration-color: #7fbfbf\">           </span>         <span style=\"color: #000000; text-decoration-color: #000000; font-weight: bold\">(</span><span style=\"color: #808000; text-decoration-color: #808000\">session</span><span style=\"color: #000000; text-decoration-color: #000000\">=</span><span style=\"color: #008000; text-decoration-color: #008000\">\"107d568e-6d45-4d8c-94b1-3e878a8f61d6\"</span><span style=\"color: #000000; text-decoration-color: #000000; font-weight: bold\">)</span><span style=\"font-weight: bold\">&gt;)</span>                             <span style=\"color: #7f7f7f; text-decoration-color: #7f7f7f\">                </span>\n",
       "</pre>\n"
      ],
      "text/plain": [
       "\u001b[2;36m[14:37:41]\u001b[0m\u001b[2;36m \u001b[0m\u001b[34mINFO    \u001b[0m \u001b[1;35mLbcCrawler\u001b[0m\u001b[1m(\u001b[0m\u001b[33murl\u001b[0m=\u001b[32m'https://longbeach.legistar.com/calendar.aspx'\u001b[0m,                 \u001b]8;id=41636;file:///var/folders/hl/w6_pkxfd2jv6cjy4d67qkcrc0000gn/T/ipykernel_89126/3586244944.py\u001b\\\u001b[2m3586244944.py\u001b[0m\u001b]8;;\u001b\\\u001b[2m:\u001b[0m\u001b]8;id=115768;file:///var/folders/hl/w6_pkxfd2jv6cjy4d67qkcrc0000gn/T/ipykernel_89126/3586244944.py#15\u001b\\\u001b[2m15\u001b[0m\u001b]8;;\u001b\\\n",
       "\u001b[2;36m           \u001b[0m         \u001b[33mbrowser\u001b[0m=\u001b[32m'Firefox'\u001b[0m, \u001b[33m_driver\u001b[0m=\u001b[1m<\u001b[0m\u001b[1;95mselenium.webdriver.firefox.webdriver.WebDriver\u001b[0m\u001b[39m \u001b[0m    \u001b[2m                \u001b[0m\n",
       "\u001b[2;36m           \u001b[0m         \u001b[1;39m(\u001b[0m\u001b[33msession\u001b[0m\u001b[39m=\u001b[0m\u001b[32m\"107d568e\u001b[0m\u001b[32m-6d45-4d8c-94b1-3e878a8f61d6\"\u001b[0m\u001b[1;39m)\u001b[0m\u001b[1m>\u001b[0m\u001b[1m)\u001b[0m                             \u001b[2m                \u001b[0m\n"
      ]
     },
     "metadata": {},
     "output_type": "display_data"
    }
   ],
   "source": [
    "from michar.api.profile import ConfigProfile\n",
    "import michar.api.crawlers.Krawlerz as krawlers\n",
    "profile: ConfigProfile = ConfigProfile()\n",
    "\n",
    "data_source: str = \"lbc\"\n",
    "\n",
    "url: str = profile.get_source_url(source=data_source)\n",
    "log.info(url)\n",
    "\n",
    "\n",
    "# this will open a browser window for the URL since it's javascript\n",
    "# right now it assumes firefox\n",
    "\n",
    "krawler: krawlers.LbcCrawler = krawlers.get_crawler(url=url, source=data_source)\n",
    "log.info(krawler)"
   ]
  },
  {
   "cell_type": "code",
   "execution_count": 9,
   "metadata": {},
   "outputs": [],
   "source": [
    "\n",
    "# div_data_test = 'ctl00_ContentPlaceHolder1_divGrid'\n",
    "\n",
    "# content_div = lbc_krawler.get_div(div_id=div_data_test)\n",
    "# log.info(content_div)\n",
    "\n"
   ]
  },
  {
   "cell_type": "code",
   "execution_count": 10,
   "id": "b55d1206-e01f-4b85-99fa-dcb557c37364",
   "metadata": {},
   "outputs": [],
   "source": [
    "# element_data_test = 'dynamic element name here'\n",
    "# lbc_krawler.get_element(element_id=element_data_test)\n",
    "# log.info(element_data_test)"
   ]
  },
  {
   "cell_type": "code",
   "execution_count": 11,
   "metadata": {},
   "outputs": [],
   "source": [
    "\n",
    "krawler.shutdown()"
   ]
  }
 ],
 "metadata": {
  "kernelspec": {
   "display_name": "Python 3 (ipykernel)",
   "language": "python",
   "name": "python3"
  },
  "language_info": {
   "codemirror_mode": {
    "name": "ipython",
    "version": 3
   },
   "file_extension": ".py",
   "mimetype": "text/x-python",
   "name": "python",
   "nbconvert_exporter": "python",
   "pygments_lexer": "ipython3",
   "version": "3.12.0"
  }
 },
 "nbformat": 4,
 "nbformat_minor": 5
}
