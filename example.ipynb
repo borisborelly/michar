{
 "cells": [
  {
   "cell_type": "code",
   "execution_count": 1,
   "id": "1aba5266-ee2e-4077-b343-77fcc609ba99",
   "metadata": {},
   "outputs": [
    {
     "data": {
      "text/html": [
       "<pre style=\"white-space:pre;overflow-x:auto;line-height:normal;font-family:Menlo,'DejaVu Sans Mono',consolas,'Courier New',monospace\"><span style=\"color: #7fbfbf; text-decoration-color: #7fbfbf\">[17:45:25] </span><span style=\"color: #000080; text-decoration-color: #000080\">INFO    </span> Using michar version <span style=\"color: #008080; text-decoration-color: #008080; font-weight: bold\">0.1</span>.<span style=\"color: #008080; text-decoration-color: #008080; font-weight: bold\">1</span>                                                       <a href=\"file:///var/folders/hl/w6_pkxfd2jv6cjy4d67qkcrc0000gn/T/ipykernel_3512/548079639.py\" target=\"_blank\"><span style=\"color: #7f7f7f; text-decoration-color: #7f7f7f\">548079639.py</span></a><span style=\"color: #7f7f7f; text-decoration-color: #7f7f7f\">:</span><a href=\"file:///var/folders/hl/w6_pkxfd2jv6cjy4d67qkcrc0000gn/T/ipykernel_3512/548079639.py#4\" target=\"_blank\"><span style=\"color: #7f7f7f; text-decoration-color: #7f7f7f\">4</span></a>\n",
       "</pre>\n"
      ],
      "text/plain": [
       "\u001b[2;36m[17:45:25]\u001b[0m\u001b[2;36m \u001b[0m\u001b[34mINFO    \u001b[0m Using michar version \u001b[1;36m0.1\u001b[0m.\u001b[1;36m1\u001b[0m                                                       \u001b]8;id=249763;file:///var/folders/hl/w6_pkxfd2jv6cjy4d67qkcrc0000gn/T/ipykernel_3512/548079639.py\u001b\\\u001b[2m548079639.py\u001b[0m\u001b]8;;\u001b\\\u001b[2m:\u001b[0m\u001b]8;id=516602;file:///var/folders/hl/w6_pkxfd2jv6cjy4d67qkcrc0000gn/T/ipykernel_3512/548079639.py#4\u001b\\\u001b[2m4\u001b[0m\u001b]8;;\u001b\\\n"
      ]
     },
     "metadata": {},
     "output_type": "display_data"
    }
   ],
   "source": [
    "import michar\n",
    "import michar.api.util as util\n",
    "log = util.get_logger()\n",
    "log.info(f\"Using {michar.__name__} version {michar.__version__}\")"
   ]
  },
  {
   "cell_type": "code",
   "execution_count": 2,
   "metadata": {},
   "outputs": [
    {
     "data": {
      "text/html": [
       "<pre style=\"white-space:pre;overflow-x:auto;line-height:normal;font-family:Menlo,'DejaVu Sans Mono',consolas,'Courier New',monospace\"><span style=\"color: #7fbfbf; text-decoration-color: #7fbfbf\">           </span><span style=\"color: #800000; text-decoration-color: #800000\">WARNING </span> The geckodriver version <span style=\"font-weight: bold\">(</span><span style=\"color: #008080; text-decoration-color: #008080; font-weight: bold\">0.33</span>.<span style=\"color: #008080; text-decoration-color: #008080; font-weight: bold\">0</span><span style=\"font-weight: bold\">)</span> detected in PATH at                    <a href=\"file:///Users/boris/Library/Caches/pypoetry/virtualenvs/michar-Kjlsv4OL-py3.12/lib/python3.12/site-packages/selenium/webdriver/common/selenium_manager.py\" target=\"_blank\"><span style=\"color: #7f7f7f; text-decoration-color: #7f7f7f\">selenium_manager.py</span></a><span style=\"color: #7f7f7f; text-decoration-color: #7f7f7f\">:</span><a href=\"file:///Users/boris/Library/Caches/pypoetry/virtualenvs/michar-Kjlsv4OL-py3.12/lib/python3.12/site-packages/selenium/webdriver/common/selenium_manager.py#144\" target=\"_blank\"><span style=\"color: #7f7f7f; text-decoration-color: #7f7f7f\">144</span></a>\n",
       "<span style=\"color: #7fbfbf; text-decoration-color: #7fbfbf\">           </span>         <span style=\"color: #800080; text-decoration-color: #800080\">/opt/homebrew/bin/</span><span style=\"color: #ff00ff; text-decoration-color: #ff00ff\">geckodriver</span> might not be compatible with the detected <span style=\"color: #7f7f7f; text-decoration-color: #7f7f7f\">                       </span>\n",
       "<span style=\"color: #7fbfbf; text-decoration-color: #7fbfbf\">           </span>         firefox version <span style=\"font-weight: bold\">(</span><span style=\"color: #008080; text-decoration-color: #008080; font-weight: bold\">121.0</span>.<span style=\"color: #008080; text-decoration-color: #008080; font-weight: bold\">1</span><span style=\"font-weight: bold\">)</span>; currently, geckodriver <span style=\"color: #008080; text-decoration-color: #008080; font-weight: bold\">0.34</span>.<span style=\"color: #008080; text-decoration-color: #008080; font-weight: bold\">0</span> is recommended <span style=\"color: #7f7f7f; text-decoration-color: #7f7f7f\">                       </span>\n",
       "<span style=\"color: #7fbfbf; text-decoration-color: #7fbfbf\">           </span>         for firefox <span style=\"color: #008080; text-decoration-color: #008080; font-weight: bold\">121</span>.*, so it is advised to delete the driver in PATH and    <span style=\"color: #7f7f7f; text-decoration-color: #7f7f7f\">                       </span>\n",
       "<span style=\"color: #7fbfbf; text-decoration-color: #7fbfbf\">           </span>         retry                                                                   <span style=\"color: #7f7f7f; text-decoration-color: #7f7f7f\">                       </span>\n",
       "</pre>\n"
      ],
      "text/plain": [
       "\u001b[2;36m          \u001b[0m\u001b[2;36m \u001b[0m\u001b[31mWARNING \u001b[0m The geckodriver version \u001b[1m(\u001b[0m\u001b[1;36m0.33\u001b[0m.\u001b[1;36m0\u001b[0m\u001b[1m)\u001b[0m detected in PATH at                    \u001b]8;id=690176;file:///Users/boris/Library/Caches/pypoetry/virtualenvs/michar-Kjlsv4OL-py3.12/lib/python3.12/site-packages/selenium/webdriver/common/selenium_manager.py\u001b\\\u001b[2mselenium_manager.py\u001b[0m\u001b]8;;\u001b\\\u001b[2m:\u001b[0m\u001b]8;id=865701;file:///Users/boris/Library/Caches/pypoetry/virtualenvs/michar-Kjlsv4OL-py3.12/lib/python3.12/site-packages/selenium/webdriver/common/selenium_manager.py#144\u001b\\\u001b[2m144\u001b[0m\u001b]8;;\u001b\\\n",
       "\u001b[2;36m           \u001b[0m         \u001b[35m/opt/homebrew/bin/\u001b[0m\u001b[95mgeckodriver\u001b[0m might not be compatible with the detected \u001b[2m                       \u001b[0m\n",
       "\u001b[2;36m           \u001b[0m         firefox version \u001b[1m(\u001b[0m\u001b[1;36m121.0\u001b[0m.\u001b[1;36m1\u001b[0m\u001b[1m)\u001b[0m; currently, geckodriver \u001b[1;36m0.34\u001b[0m.\u001b[1;36m0\u001b[0m is recommended \u001b[2m                       \u001b[0m\n",
       "\u001b[2;36m           \u001b[0m         for firefox \u001b[1;36m121\u001b[0m.*, so it is advised to delete the driver in PATH and    \u001b[2m                       \u001b[0m\n",
       "\u001b[2;36m           \u001b[0m         retry                                                                   \u001b[2m                       \u001b[0m\n"
      ]
     },
     "metadata": {},
     "output_type": "display_data"
    }
   ],
   "source": [
    "URL = \"https://longbeach.legistar.com/Calendar.aspx\"\n",
    "\n",
    "lbc_krawler: util.Krawl = util.get_crawler(url=URL)\n"
   ]
  },
  {
   "cell_type": "code",
   "execution_count": 3,
   "metadata": {},
   "outputs": [
    {
     "name": "stdout",
     "output_type": "stream",
     "text": [
      "<selenium.webdriver.remote.webelement.WebElement (session=\"8ee7b4da-3555-4443-ab67-687c52b084e2\", element=\"5e07fc83-5a5a-4cdc-8ff6-7ca234fddf94\")>\n"
     ]
    },
    {
     "data": {
      "text/html": [
       "<pre style=\"white-space:pre;overflow-x:auto;line-height:normal;font-family:Menlo,'DejaVu Sans Mono',consolas,'Courier New',monospace\"><span style=\"color: #7fbfbf; text-decoration-color: #7fbfbf\">[17:45:30] </span><span style=\"color: #000080; text-decoration-color: #000080\">INFO    </span> <span style=\"font-weight: bold\">&lt;</span><span style=\"color: #ff00ff; text-decoration-color: #ff00ff; font-weight: bold\">selenium.webdriver.remote.webelement.WebElement</span><span style=\"color: #000000; text-decoration-color: #000000\"> </span>                               <a href=\"file:///var/folders/hl/w6_pkxfd2jv6cjy4d67qkcrc0000gn/T/ipykernel_3512/2968321443.py\" target=\"_blank\"><span style=\"color: #7f7f7f; text-decoration-color: #7f7f7f\">2968321443.py</span></a><span style=\"color: #7f7f7f; text-decoration-color: #7f7f7f\">:</span><a href=\"file:///var/folders/hl/w6_pkxfd2jv6cjy4d67qkcrc0000gn/T/ipykernel_3512/2968321443.py#8\" target=\"_blank\"><span style=\"color: #7f7f7f; text-decoration-color: #7f7f7f\">8</span></a>\n",
       "<span style=\"color: #7fbfbf; text-decoration-color: #7fbfbf\">           </span>         <span style=\"color: #000000; text-decoration-color: #000000; font-weight: bold\">(</span><span style=\"color: #808000; text-decoration-color: #808000\">session</span><span style=\"color: #000000; text-decoration-color: #000000\">=</span><span style=\"color: #008000; text-decoration-color: #008000\">\"8ee7b4da-3555-4443-ab67-687c52b084e2\"</span><span style=\"color: #000000; text-decoration-color: #000000\">, </span>                               <span style=\"color: #7f7f7f; text-decoration-color: #7f7f7f\">               </span>\n",
       "<span style=\"color: #7fbfbf; text-decoration-color: #7fbfbf\">           </span>         <span style=\"color: #808000; text-decoration-color: #808000\">element</span><span style=\"color: #000000; text-decoration-color: #000000\">=</span><span style=\"color: #008000; text-decoration-color: #008000\">\"5e07fc83-5a5a-4cdc-8ff6-7ca234fddf94\"</span><span style=\"color: #000000; text-decoration-color: #000000; font-weight: bold\">)</span><span style=\"font-weight: bold\">&gt;</span>                                <span style=\"color: #7f7f7f; text-decoration-color: #7f7f7f\">               </span>\n",
       "</pre>\n"
      ],
      "text/plain": [
       "\u001b[2;36m[17:45:30]\u001b[0m\u001b[2;36m \u001b[0m\u001b[34mINFO    \u001b[0m \u001b[1m<\u001b[0m\u001b[1;95mselenium.webdriver.remote.webelement.WebElement\u001b[0m\u001b[39m \u001b[0m                               \u001b]8;id=632009;file:///var/folders/hl/w6_pkxfd2jv6cjy4d67qkcrc0000gn/T/ipykernel_3512/2968321443.py\u001b\\\u001b[2m2968321443.py\u001b[0m\u001b]8;;\u001b\\\u001b[2m:\u001b[0m\u001b]8;id=918153;file:///var/folders/hl/w6_pkxfd2jv6cjy4d67qkcrc0000gn/T/ipykernel_3512/2968321443.py#8\u001b\\\u001b[2m8\u001b[0m\u001b]8;;\u001b\\\n",
       "\u001b[2;36m           \u001b[0m         \u001b[1;39m(\u001b[0m\u001b[33msession\u001b[0m\u001b[39m=\u001b[0m\u001b[32m\"8ee7b4da\u001b[0m\u001b[32m-3555-4443-ab67-687c52b084e2\"\u001b[0m\u001b[39m, \u001b[0m                               \u001b[2m               \u001b[0m\n",
       "\u001b[2;36m           \u001b[0m         \u001b[33melement\u001b[0m\u001b[39m=\u001b[0m\u001b[32m\"5e07fc83\u001b[0m\u001b[32m-5a5a-4cdc-8ff6-7ca234fddf94\"\u001b[0m\u001b[1;39m)\u001b[0m\u001b[1m>\u001b[0m                                \u001b[2m               \u001b[0m\n"
      ]
     },
     "metadata": {},
     "output_type": "display_data"
    }
   ],
   "source": [
    "\n",
    "div_data_test = 'ctl00_ContentPlaceHolder1_divGrid'\n",
    "\n",
    "content_div = lbc_krawler.get_div(div_id=div_data_test)\n",
    "log.info(content_div)\n",
    "\n"
   ]
  },
  {
   "cell_type": "code",
   "execution_count": 4,
   "id": "b55d1206-e01f-4b85-99fa-dcb557c37364",
   "metadata": {},
   "outputs": [
    {
     "data": {
      "text/html": [
       "<pre style=\"white-space:pre;overflow-x:auto;line-height:normal;font-family:Menlo,'DejaVu Sans Mono',consolas,'Courier New',monospace\"><span style=\"color: #800000; text-decoration-color: #800000\">╭─────────────────────────────── </span><span style=\"color: #800000; text-decoration-color: #800000; font-weight: bold\">Traceback </span><span style=\"color: #bf7f7f; text-decoration-color: #bf7f7f; font-weight: bold\">(most recent call last)</span><span style=\"color: #800000; text-decoration-color: #800000\"> ────────────────────────────────╮</span>\n",
       "<span style=\"color: #800000; text-decoration-color: #800000\">│</span> in <span style=\"color: #00ff00; text-decoration-color: #00ff00\">&lt;module&gt;</span>:<span style=\"color: #0000ff; text-decoration-color: #0000ff\">2</span>                                                                                    <span style=\"color: #800000; text-decoration-color: #800000\">│</span>\n",
       "<span style=\"color: #800000; text-decoration-color: #800000\">│</span>                                                                                                  <span style=\"color: #800000; text-decoration-color: #800000\">│</span>\n",
       "<span style=\"color: #800000; text-decoration-color: #800000\">│</span>   <span style=\"color: #7f7f7f; text-decoration-color: #7f7f7f\">1 </span>element_data_test = <span style=\"color: #808000; text-decoration-color: #808000\">'dynamic element name here'</span>                                              <span style=\"color: #800000; text-decoration-color: #800000\">│</span>\n",
       "<span style=\"color: #800000; text-decoration-color: #800000\">│</span> <span style=\"color: #800000; text-decoration-color: #800000\">❱ </span>2 lbc_krawler.get_element(element_id=element_data_test)                                        <span style=\"color: #800000; text-decoration-color: #800000\">│</span>\n",
       "<span style=\"color: #800000; text-decoration-color: #800000\">│</span>   <span style=\"color: #7f7f7f; text-decoration-color: #7f7f7f\">3 </span><span style=\"color: #00ffff; text-decoration-color: #00ffff\">print</span>(element_data_test)                                                                     <span style=\"color: #800000; text-decoration-color: #800000\">│</span>\n",
       "<span style=\"color: #800000; text-decoration-color: #800000\">│</span>   <span style=\"color: #7f7f7f; text-decoration-color: #7f7f7f\">4 </span>                                                                                             <span style=\"color: #800000; text-decoration-color: #800000\">│</span>\n",
       "<span style=\"color: #800000; text-decoration-color: #800000\">│</span>                                                                                                  <span style=\"color: #800000; text-decoration-color: #800000\">│</span>\n",
       "<span style=\"color: #800000; text-decoration-color: #800000\">│</span> <span style=\"color: #bfbf7f; text-decoration-color: #bfbf7f\">/Users/boris/dev/michar/src/michar/api/</span><span style=\"color: #808000; text-decoration-color: #808000; font-weight: bold\">util.py</span>:<span style=\"color: #0000ff; text-decoration-color: #0000ff\">66</span> in <span style=\"color: #00ff00; text-decoration-color: #00ff00\">get_element</span>                                 <span style=\"color: #800000; text-decoration-color: #800000\">│</span>\n",
       "<span style=\"color: #800000; text-decoration-color: #800000\">│</span>                                                                                                  <span style=\"color: #800000; text-decoration-color: #800000\">│</span>\n",
       "<span style=\"color: #800000; text-decoration-color: #800000\">│</span>   <span style=\"color: #7f7f7f; text-decoration-color: #7f7f7f\">63 </span><span style=\"color: #bfbfbf; text-decoration-color: #bfbfbf\">│   │   </span><span style=\"color: #808000; text-decoration-color: #808000\">'''</span>                                                                                 <span style=\"color: #800000; text-decoration-color: #800000\">│</span>\n",
       "<span style=\"color: #800000; text-decoration-color: #800000\">│</span>   <span style=\"color: #7f7f7f; text-decoration-color: #7f7f7f\">64 </span><span style=\"color: #bfbf7f; text-decoration-color: #bfbf7f\">│   │   </span><span style=\"color: #808000; text-decoration-color: #808000\">gets data from a dynamic element id</span>                                                 <span style=\"color: #800000; text-decoration-color: #800000\">│</span>\n",
       "<span style=\"color: #800000; text-decoration-color: #800000\">│</span>   <span style=\"color: #7f7f7f; text-decoration-color: #7f7f7f\">65 </span><span style=\"color: #bfbf7f; text-decoration-color: #bfbf7f\">│   │   </span><span style=\"color: #808000; text-decoration-color: #808000\">'''</span>                                                                                 <span style=\"color: #800000; text-decoration-color: #800000\">│</span>\n",
       "<span style=\"color: #800000; text-decoration-color: #800000\">│</span> <span style=\"color: #800000; text-decoration-color: #800000\">❱ </span>66 <span style=\"color: #7f7f7f; text-decoration-color: #7f7f7f\">│   │   </span>dynamic_content = <span style=\"color: #00ffff; text-decoration-color: #00ffff\">self</span>._driver.find_element(By.ID, element_id)                      <span style=\"color: #800000; text-decoration-color: #800000\">│</span>\n",
       "<span style=\"color: #800000; text-decoration-color: #800000\">│</span>   <span style=\"color: #7f7f7f; text-decoration-color: #7f7f7f\">67 </span><span style=\"color: #7f7f7f; text-decoration-color: #7f7f7f\">│   │   </span><span style=\"color: #0000ff; text-decoration-color: #0000ff\">return</span> dynamic_content                                                              <span style=\"color: #800000; text-decoration-color: #800000\">│</span>\n",
       "<span style=\"color: #800000; text-decoration-color: #800000\">│</span>   <span style=\"color: #7f7f7f; text-decoration-color: #7f7f7f\">68 </span>                                                                                            <span style=\"color: #800000; text-decoration-color: #800000\">│</span>\n",
       "<span style=\"color: #800000; text-decoration-color: #800000\">│</span>   <span style=\"color: #7f7f7f; text-decoration-color: #7f7f7f\">69 </span><span style=\"color: #ff00ff; text-decoration-color: #ff00ff; font-weight: bold\">@dataclass</span>                                                                                  <span style=\"color: #800000; text-decoration-color: #800000\">│</span>\n",
       "<span style=\"color: #800000; text-decoration-color: #800000\">│</span>                                                                                                  <span style=\"color: #800000; text-decoration-color: #800000\">│</span>\n",
       "<span style=\"color: #800000; text-decoration-color: #800000\">│</span> <span style=\"color: #bfbf7f; text-decoration-color: #bfbf7f\">/Users/boris/Library/Caches/pypoetry/virtualenvs/michar-Kjlsv4OL-py3.12/lib/python3.12/site-pack</span> <span style=\"color: #800000; text-decoration-color: #800000\">│</span>\n",
       "<span style=\"color: #800000; text-decoration-color: #800000\">│</span> <span style=\"color: #bfbf7f; text-decoration-color: #bfbf7f\">ages/selenium/webdriver/remote/</span><span style=\"color: #808000; text-decoration-color: #808000; font-weight: bold\">webdriver.py</span>:<span style=\"color: #0000ff; text-decoration-color: #0000ff\">742</span> in <span style=\"color: #00ff00; text-decoration-color: #00ff00\">find_element</span>                                  <span style=\"color: #800000; text-decoration-color: #800000\">│</span>\n",
       "<span style=\"color: #800000; text-decoration-color: #800000\">│</span>                                                                                                  <span style=\"color: #800000; text-decoration-color: #800000\">│</span>\n",
       "<span style=\"color: #800000; text-decoration-color: #800000\">│</span>   <span style=\"color: #7f7f7f; text-decoration-color: #7f7f7f\"> 739 </span><span style=\"color: #7f7f7f; text-decoration-color: #7f7f7f\">│   │   │   </span>by = By.CSS_SELECTOR                                                          <span style=\"color: #800000; text-decoration-color: #800000\">│</span>\n",
       "<span style=\"color: #800000; text-decoration-color: #800000\">│</span>   <span style=\"color: #7f7f7f; text-decoration-color: #7f7f7f\"> 740 </span><span style=\"color: #7f7f7f; text-decoration-color: #7f7f7f\">│   │   │   </span>value = <span style=\"color: #808000; text-decoration-color: #808000\">f'[name=\"{</span>value<span style=\"color: #808000; text-decoration-color: #808000\">}\"]'</span>                                                   <span style=\"color: #800000; text-decoration-color: #800000\">│</span>\n",
       "<span style=\"color: #800000; text-decoration-color: #800000\">│</span>   <span style=\"color: #7f7f7f; text-decoration-color: #7f7f7f\"> 741 </span><span style=\"color: #7f7f7f; text-decoration-color: #7f7f7f\">│   │   </span>                                                                                  <span style=\"color: #800000; text-decoration-color: #800000\">│</span>\n",
       "<span style=\"color: #800000; text-decoration-color: #800000\">│</span> <span style=\"color: #800000; text-decoration-color: #800000\">❱ </span> 742 <span style=\"color: #7f7f7f; text-decoration-color: #7f7f7f\">│   │   </span><span style=\"color: #0000ff; text-decoration-color: #0000ff\">return</span> <span style=\"color: #00ffff; text-decoration-color: #00ffff\">self</span>.execute(Command.FIND_ELEMENT, {<span style=\"color: #808000; text-decoration-color: #808000\">\"using\"</span>: by, <span style=\"color: #808000; text-decoration-color: #808000\">\"value\"</span>: value})[<span style=\"color: #808000; text-decoration-color: #808000\">\"value\"</span>  <span style=\"color: #800000; text-decoration-color: #800000\">│</span>\n",
       "<span style=\"color: #800000; text-decoration-color: #800000\">│</span>   <span style=\"color: #7f7f7f; text-decoration-color: #7f7f7f\"> 743 </span><span style=\"color: #7f7f7f; text-decoration-color: #7f7f7f\">│   </span>                                                                                      <span style=\"color: #800000; text-decoration-color: #800000\">│</span>\n",
       "<span style=\"color: #800000; text-decoration-color: #800000\">│</span>   <span style=\"color: #7f7f7f; text-decoration-color: #7f7f7f\"> 744 </span><span style=\"color: #7f7f7f; text-decoration-color: #7f7f7f\">│   </span><span style=\"color: #0000ff; text-decoration-color: #0000ff\">def</span> <span style=\"color: #00ff00; text-decoration-color: #00ff00\">find_elements</span>(<span style=\"color: #00ffff; text-decoration-color: #00ffff\">self</span>, by=By.ID, value: Optional[<span style=\"color: #00ffff; text-decoration-color: #00ffff\">str</span>] = <span style=\"color: #0000ff; text-decoration-color: #0000ff\">None</span>) -&gt; List[WebElement]:   <span style=\"color: #800000; text-decoration-color: #800000\">│</span>\n",
       "<span style=\"color: #800000; text-decoration-color: #800000\">│</span>   <span style=\"color: #7f7f7f; text-decoration-color: #7f7f7f\"> 745 </span><span style=\"color: #bfbfbf; text-decoration-color: #bfbfbf\">│   │   </span><span style=\"color: #808000; text-decoration-color: #808000\">\"\"\"Find elements given a By strategy and locator.</span>                                 <span style=\"color: #800000; text-decoration-color: #800000\">│</span>\n",
       "<span style=\"color: #800000; text-decoration-color: #800000\">│</span>                                                                                                  <span style=\"color: #800000; text-decoration-color: #800000\">│</span>\n",
       "<span style=\"color: #800000; text-decoration-color: #800000\">│</span> <span style=\"color: #bfbf7f; text-decoration-color: #bfbf7f\">/Users/boris/Library/Caches/pypoetry/virtualenvs/michar-Kjlsv4OL-py3.12/lib/python3.12/site-pack</span> <span style=\"color: #800000; text-decoration-color: #800000\">│</span>\n",
       "<span style=\"color: #800000; text-decoration-color: #800000\">│</span> <span style=\"color: #bfbf7f; text-decoration-color: #bfbf7f\">ages/selenium/webdriver/remote/</span><span style=\"color: #808000; text-decoration-color: #808000; font-weight: bold\">webdriver.py</span>:<span style=\"color: #0000ff; text-decoration-color: #0000ff\">348</span> in <span style=\"color: #00ff00; text-decoration-color: #00ff00\">execute</span>                                       <span style=\"color: #800000; text-decoration-color: #800000\">│</span>\n",
       "<span style=\"color: #800000; text-decoration-color: #800000\">│</span>                                                                                                  <span style=\"color: #800000; text-decoration-color: #800000\">│</span>\n",
       "<span style=\"color: #800000; text-decoration-color: #800000\">│</span>   <span style=\"color: #7f7f7f; text-decoration-color: #7f7f7f\"> 345 </span><span style=\"color: #7f7f7f; text-decoration-color: #7f7f7f\">│   │   </span>                                                                                  <span style=\"color: #800000; text-decoration-color: #800000\">│</span>\n",
       "<span style=\"color: #800000; text-decoration-color: #800000\">│</span>   <span style=\"color: #7f7f7f; text-decoration-color: #7f7f7f\"> 346 </span><span style=\"color: #7f7f7f; text-decoration-color: #7f7f7f\">│   │   </span>response = <span style=\"color: #00ffff; text-decoration-color: #00ffff\">self</span>.command_executor.execute(driver_command, params)                  <span style=\"color: #800000; text-decoration-color: #800000\">│</span>\n",
       "<span style=\"color: #800000; text-decoration-color: #800000\">│</span>   <span style=\"color: #7f7f7f; text-decoration-color: #7f7f7f\"> 347 </span><span style=\"color: #7f7f7f; text-decoration-color: #7f7f7f\">│   │   </span><span style=\"color: #0000ff; text-decoration-color: #0000ff\">if</span> response:                                                                      <span style=\"color: #800000; text-decoration-color: #800000\">│</span>\n",
       "<span style=\"color: #800000; text-decoration-color: #800000\">│</span> <span style=\"color: #800000; text-decoration-color: #800000\">❱ </span> 348 <span style=\"color: #7f7f7f; text-decoration-color: #7f7f7f\">│   │   │   </span><span style=\"color: #00ffff; text-decoration-color: #00ffff\">self</span>.error_handler.check_response(response)                                   <span style=\"color: #800000; text-decoration-color: #800000\">│</span>\n",
       "<span style=\"color: #800000; text-decoration-color: #800000\">│</span>   <span style=\"color: #7f7f7f; text-decoration-color: #7f7f7f\"> 349 </span><span style=\"color: #7f7f7f; text-decoration-color: #7f7f7f\">│   │   │   </span>response[<span style=\"color: #808000; text-decoration-color: #808000\">\"value\"</span>] = <span style=\"color: #00ffff; text-decoration-color: #00ffff\">self</span>._unwrap_value(response.get(<span style=\"color: #808000; text-decoration-color: #808000\">\"value\"</span>, <span style=\"color: #0000ff; text-decoration-color: #0000ff\">None</span>))           <span style=\"color: #800000; text-decoration-color: #800000\">│</span>\n",
       "<span style=\"color: #800000; text-decoration-color: #800000\">│</span>   <span style=\"color: #7f7f7f; text-decoration-color: #7f7f7f\"> 350 </span><span style=\"color: #7f7f7f; text-decoration-color: #7f7f7f\">│   │   │   </span><span style=\"color: #0000ff; text-decoration-color: #0000ff\">return</span> response                                                               <span style=\"color: #800000; text-decoration-color: #800000\">│</span>\n",
       "<span style=\"color: #800000; text-decoration-color: #800000\">│</span>   <span style=\"color: #7f7f7f; text-decoration-color: #7f7f7f\"> 351 </span><span style=\"color: #7f7f7f; text-decoration-color: #7f7f7f\">│   │   </span><span style=\"color: #7f7f7f; text-decoration-color: #7f7f7f\"># If the server doesn't send a response, assume the command was</span>                   <span style=\"color: #800000; text-decoration-color: #800000\">│</span>\n",
       "<span style=\"color: #800000; text-decoration-color: #800000\">│</span>                                                                                                  <span style=\"color: #800000; text-decoration-color: #800000\">│</span>\n",
       "<span style=\"color: #800000; text-decoration-color: #800000\">│</span> <span style=\"color: #bfbf7f; text-decoration-color: #bfbf7f\">/Users/boris/Library/Caches/pypoetry/virtualenvs/michar-Kjlsv4OL-py3.12/lib/python3.12/site-pack</span> <span style=\"color: #800000; text-decoration-color: #800000\">│</span>\n",
       "<span style=\"color: #800000; text-decoration-color: #800000\">│</span> <span style=\"color: #bfbf7f; text-decoration-color: #bfbf7f\">ages/selenium/webdriver/remote/</span><span style=\"color: #808000; text-decoration-color: #808000; font-weight: bold\">errorhandler.py</span>:<span style=\"color: #0000ff; text-decoration-color: #0000ff\">229</span> in <span style=\"color: #00ff00; text-decoration-color: #00ff00\">check_response</span>                             <span style=\"color: #800000; text-decoration-color: #800000\">│</span>\n",
       "<span style=\"color: #800000; text-decoration-color: #800000\">│</span>                                                                                                  <span style=\"color: #800000; text-decoration-color: #800000\">│</span>\n",
       "<span style=\"color: #800000; text-decoration-color: #800000\">│</span>   <span style=\"color: #7f7f7f; text-decoration-color: #7f7f7f\">226 </span><span style=\"color: #7f7f7f; text-decoration-color: #7f7f7f\">│   │   │   </span><span style=\"color: #0000ff; text-decoration-color: #0000ff\">elif</span> <span style=\"color: #808000; text-decoration-color: #808000\">\"alert\"</span> <span style=\"color: #ff00ff; text-decoration-color: #ff00ff\">in</span> value:                                                         <span style=\"color: #800000; text-decoration-color: #800000\">│</span>\n",
       "<span style=\"color: #800000; text-decoration-color: #800000\">│</span>   <span style=\"color: #7f7f7f; text-decoration-color: #7f7f7f\">227 </span><span style=\"color: #7f7f7f; text-decoration-color: #7f7f7f\">│   │   │   │   </span>alert_text = value[<span style=\"color: #808000; text-decoration-color: #808000\">\"alert\"</span>].get(<span style=\"color: #808000; text-decoration-color: #808000\">\"text\"</span>)                                    <span style=\"color: #800000; text-decoration-color: #800000\">│</span>\n",
       "<span style=\"color: #800000; text-decoration-color: #800000\">│</span>   <span style=\"color: #7f7f7f; text-decoration-color: #7f7f7f\">228 </span><span style=\"color: #7f7f7f; text-decoration-color: #7f7f7f\">│   │   │   </span><span style=\"color: #0000ff; text-decoration-color: #0000ff\">raise</span> exception_class(message, screen, stacktrace, alert_text)  <span style=\"color: #7f7f7f; text-decoration-color: #7f7f7f\"># type: igno</span>   <span style=\"color: #800000; text-decoration-color: #800000\">│</span>\n",
       "<span style=\"color: #800000; text-decoration-color: #800000\">│</span> <span style=\"color: #800000; text-decoration-color: #800000\">❱ </span>229 <span style=\"color: #7f7f7f; text-decoration-color: #7f7f7f\">│   │   </span><span style=\"color: #0000ff; text-decoration-color: #0000ff\">raise</span> exception_class(message, screen, stacktrace)                                 <span style=\"color: #800000; text-decoration-color: #800000\">│</span>\n",
       "<span style=\"color: #800000; text-decoration-color: #800000\">│</span>   <span style=\"color: #7f7f7f; text-decoration-color: #7f7f7f\">230 </span>                                                                                           <span style=\"color: #800000; text-decoration-color: #800000\">│</span>\n",
       "<span style=\"color: #800000; text-decoration-color: #800000\">╰──────────────────────────────────────────────────────────────────────────────────────────────────╯</span>\n",
       "<span style=\"color: #ff0000; text-decoration-color: #ff0000; font-weight: bold\">NoSuchElementException: </span>Message: Unable to locate element: <span style=\"font-weight: bold\">[</span><span style=\"color: #808000; text-decoration-color: #808000\">id</span>=<span style=\"color: #008000; text-decoration-color: #008000\">\"dynamic element name here\"</span><span style=\"font-weight: bold\">]</span>; For documentation on \n",
       "this error, please visit: \n",
       "<span style=\"color: #0000ff; text-decoration-color: #0000ff; text-decoration: underline\">https://www.selenium.dev/documentation/webdriver/troubleshooting/errors#no-such-element-exception</span>\n",
       "Stacktrace:\n",
       "RemoteError@chrome:<span style=\"color: #800080; text-decoration-color: #800080\">//remote/content/shared/</span><span style=\"color: #ff00ff; text-decoration-color: #ff00ff\">RemoteError.sys.mjs</span>:<span style=\"color: #00ff00; text-decoration-color: #00ff00; font-weight: bold\">8:8</span>\n",
       "WebDriverError@chrome:<span style=\"color: #800080; text-decoration-color: #800080\">//remote/content/shared/webdriver/</span><span style=\"color: #ff00ff; text-decoration-color: #ff00ff\">Errors.sys.mjs</span>:<span style=\"color: #00ff00; text-decoration-color: #00ff00; font-weight: bold\">189:5</span>\n",
       "NoSuchElementError@chrome:<span style=\"color: #800080; text-decoration-color: #800080\">//remote/content/shared/webdriver/</span><span style=\"color: #ff00ff; text-decoration-color: #ff00ff\">Errors.sys.mjs</span>:<span style=\"color: #00ff00; text-decoration-color: #00ff00; font-weight: bold\">507:5</span>\n",
       "dom.find/&lt;<span style=\"color: #800080; text-decoration-color: #800080\">/</span>&lt;@chrome:<span style=\"color: #800080; text-decoration-color: #800080\">//remote/content/shared/</span><span style=\"color: #ff00ff; text-decoration-color: #ff00ff\">DOM.sys.mjs</span>:<span style=\"color: #00ff00; text-decoration-color: #00ff00; font-weight: bold\">132:16</span>\n",
       "\n",
       "</pre>\n"
      ],
      "text/plain": [
       "\u001b[31m╭─\u001b[0m\u001b[31m──────────────────────────────\u001b[0m\u001b[31m \u001b[0m\u001b[1;31mTraceback \u001b[0m\u001b[1;2;31m(most recent call last)\u001b[0m\u001b[31m \u001b[0m\u001b[31m───────────────────────────────\u001b[0m\u001b[31m─╮\u001b[0m\n",
       "\u001b[31m│\u001b[0m in \u001b[92m<module>\u001b[0m:\u001b[94m2\u001b[0m                                                                                    \u001b[31m│\u001b[0m\n",
       "\u001b[31m│\u001b[0m                                                                                                  \u001b[31m│\u001b[0m\n",
       "\u001b[31m│\u001b[0m   \u001b[2m1 \u001b[0melement_data_test = \u001b[33m'\u001b[0m\u001b[33mdynamic element name here\u001b[0m\u001b[33m'\u001b[0m                                              \u001b[31m│\u001b[0m\n",
       "\u001b[31m│\u001b[0m \u001b[31m❱ \u001b[0m2 lbc_krawler.get_element(element_id=element_data_test)                                        \u001b[31m│\u001b[0m\n",
       "\u001b[31m│\u001b[0m   \u001b[2m3 \u001b[0m\u001b[96mprint\u001b[0m(element_data_test)                                                                     \u001b[31m│\u001b[0m\n",
       "\u001b[31m│\u001b[0m   \u001b[2m4 \u001b[0m                                                                                             \u001b[31m│\u001b[0m\n",
       "\u001b[31m│\u001b[0m                                                                                                  \u001b[31m│\u001b[0m\n",
       "\u001b[31m│\u001b[0m \u001b[2;33m/Users/boris/dev/michar/src/michar/api/\u001b[0m\u001b[1;33mutil.py\u001b[0m:\u001b[94m66\u001b[0m in \u001b[92mget_element\u001b[0m                                 \u001b[31m│\u001b[0m\n",
       "\u001b[31m│\u001b[0m                                                                                                  \u001b[31m│\u001b[0m\n",
       "\u001b[31m│\u001b[0m   \u001b[2m63 \u001b[0m\u001b[2;90m│   │   \u001b[0m\u001b[33m'''\u001b[0m                                                                                 \u001b[31m│\u001b[0m\n",
       "\u001b[31m│\u001b[0m   \u001b[2m64 \u001b[0m\u001b[2;33m│   │   \u001b[0m\u001b[33mgets data from a dynamic element id\u001b[0m                                                 \u001b[31m│\u001b[0m\n",
       "\u001b[31m│\u001b[0m   \u001b[2m65 \u001b[0m\u001b[2;33m│   │   \u001b[0m\u001b[33m'''\u001b[0m                                                                                 \u001b[31m│\u001b[0m\n",
       "\u001b[31m│\u001b[0m \u001b[31m❱ \u001b[0m66 \u001b[2m│   │   \u001b[0mdynamic_content = \u001b[96mself\u001b[0m._driver.find_element(By.ID, element_id)                      \u001b[31m│\u001b[0m\n",
       "\u001b[31m│\u001b[0m   \u001b[2m67 \u001b[0m\u001b[2m│   │   \u001b[0m\u001b[94mreturn\u001b[0m dynamic_content                                                              \u001b[31m│\u001b[0m\n",
       "\u001b[31m│\u001b[0m   \u001b[2m68 \u001b[0m                                                                                            \u001b[31m│\u001b[0m\n",
       "\u001b[31m│\u001b[0m   \u001b[2m69 \u001b[0m\u001b[1;95m@dataclass\u001b[0m                                                                                  \u001b[31m│\u001b[0m\n",
       "\u001b[31m│\u001b[0m                                                                                                  \u001b[31m│\u001b[0m\n",
       "\u001b[31m│\u001b[0m \u001b[2;33m/Users/boris/Library/Caches/pypoetry/virtualenvs/michar-Kjlsv4OL-py3.12/lib/python3.12/site-pack\u001b[0m \u001b[31m│\u001b[0m\n",
       "\u001b[31m│\u001b[0m \u001b[2;33mages/selenium/webdriver/remote/\u001b[0m\u001b[1;33mwebdriver.py\u001b[0m:\u001b[94m742\u001b[0m in \u001b[92mfind_element\u001b[0m                                  \u001b[31m│\u001b[0m\n",
       "\u001b[31m│\u001b[0m                                                                                                  \u001b[31m│\u001b[0m\n",
       "\u001b[31m│\u001b[0m   \u001b[2m 739 \u001b[0m\u001b[2m│   │   │   \u001b[0mby = By.CSS_SELECTOR                                                          \u001b[31m│\u001b[0m\n",
       "\u001b[31m│\u001b[0m   \u001b[2m 740 \u001b[0m\u001b[2m│   │   │   \u001b[0mvalue = \u001b[33mf\u001b[0m\u001b[33m'\u001b[0m\u001b[33m[name=\u001b[0m\u001b[33m\"\u001b[0m\u001b[33m{\u001b[0mvalue\u001b[33m}\u001b[0m\u001b[33m\"\u001b[0m\u001b[33m]\u001b[0m\u001b[33m'\u001b[0m                                                   \u001b[31m│\u001b[0m\n",
       "\u001b[31m│\u001b[0m   \u001b[2m 741 \u001b[0m\u001b[2m│   │   \u001b[0m                                                                                  \u001b[31m│\u001b[0m\n",
       "\u001b[31m│\u001b[0m \u001b[31m❱ \u001b[0m 742 \u001b[2m│   │   \u001b[0m\u001b[94mreturn\u001b[0m \u001b[96mself\u001b[0m.execute(Command.FIND_ELEMENT, {\u001b[33m\"\u001b[0m\u001b[33musing\u001b[0m\u001b[33m\"\u001b[0m: by, \u001b[33m\"\u001b[0m\u001b[33mvalue\u001b[0m\u001b[33m\"\u001b[0m: value})[\u001b[33m\"\u001b[0m\u001b[33mvalue\u001b[0m\u001b[33m\"\u001b[0m  \u001b[31m│\u001b[0m\n",
       "\u001b[31m│\u001b[0m   \u001b[2m 743 \u001b[0m\u001b[2m│   \u001b[0m                                                                                      \u001b[31m│\u001b[0m\n",
       "\u001b[31m│\u001b[0m   \u001b[2m 744 \u001b[0m\u001b[2m│   \u001b[0m\u001b[94mdef\u001b[0m \u001b[92mfind_elements\u001b[0m(\u001b[96mself\u001b[0m, by=By.ID, value: Optional[\u001b[96mstr\u001b[0m] = \u001b[94mNone\u001b[0m) -> List[WebElement]:   \u001b[31m│\u001b[0m\n",
       "\u001b[31m│\u001b[0m   \u001b[2m 745 \u001b[0m\u001b[2;90m│   │   \u001b[0m\u001b[33m\"\"\"Find elements given a By strategy and locator.\u001b[0m                                 \u001b[31m│\u001b[0m\n",
       "\u001b[31m│\u001b[0m                                                                                                  \u001b[31m│\u001b[0m\n",
       "\u001b[31m│\u001b[0m \u001b[2;33m/Users/boris/Library/Caches/pypoetry/virtualenvs/michar-Kjlsv4OL-py3.12/lib/python3.12/site-pack\u001b[0m \u001b[31m│\u001b[0m\n",
       "\u001b[31m│\u001b[0m \u001b[2;33mages/selenium/webdriver/remote/\u001b[0m\u001b[1;33mwebdriver.py\u001b[0m:\u001b[94m348\u001b[0m in \u001b[92mexecute\u001b[0m                                       \u001b[31m│\u001b[0m\n",
       "\u001b[31m│\u001b[0m                                                                                                  \u001b[31m│\u001b[0m\n",
       "\u001b[31m│\u001b[0m   \u001b[2m 345 \u001b[0m\u001b[2m│   │   \u001b[0m                                                                                  \u001b[31m│\u001b[0m\n",
       "\u001b[31m│\u001b[0m   \u001b[2m 346 \u001b[0m\u001b[2m│   │   \u001b[0mresponse = \u001b[96mself\u001b[0m.command_executor.execute(driver_command, params)                  \u001b[31m│\u001b[0m\n",
       "\u001b[31m│\u001b[0m   \u001b[2m 347 \u001b[0m\u001b[2m│   │   \u001b[0m\u001b[94mif\u001b[0m response:                                                                      \u001b[31m│\u001b[0m\n",
       "\u001b[31m│\u001b[0m \u001b[31m❱ \u001b[0m 348 \u001b[2m│   │   │   \u001b[0m\u001b[96mself\u001b[0m.error_handler.check_response(response)                                   \u001b[31m│\u001b[0m\n",
       "\u001b[31m│\u001b[0m   \u001b[2m 349 \u001b[0m\u001b[2m│   │   │   \u001b[0mresponse[\u001b[33m\"\u001b[0m\u001b[33mvalue\u001b[0m\u001b[33m\"\u001b[0m] = \u001b[96mself\u001b[0m._unwrap_value(response.get(\u001b[33m\"\u001b[0m\u001b[33mvalue\u001b[0m\u001b[33m\"\u001b[0m, \u001b[94mNone\u001b[0m))           \u001b[31m│\u001b[0m\n",
       "\u001b[31m│\u001b[0m   \u001b[2m 350 \u001b[0m\u001b[2m│   │   │   \u001b[0m\u001b[94mreturn\u001b[0m response                                                               \u001b[31m│\u001b[0m\n",
       "\u001b[31m│\u001b[0m   \u001b[2m 351 \u001b[0m\u001b[2m│   │   \u001b[0m\u001b[2m# If the server doesn't send a response, assume the command was\u001b[0m                   \u001b[31m│\u001b[0m\n",
       "\u001b[31m│\u001b[0m                                                                                                  \u001b[31m│\u001b[0m\n",
       "\u001b[31m│\u001b[0m \u001b[2;33m/Users/boris/Library/Caches/pypoetry/virtualenvs/michar-Kjlsv4OL-py3.12/lib/python3.12/site-pack\u001b[0m \u001b[31m│\u001b[0m\n",
       "\u001b[31m│\u001b[0m \u001b[2;33mages/selenium/webdriver/remote/\u001b[0m\u001b[1;33merrorhandler.py\u001b[0m:\u001b[94m229\u001b[0m in \u001b[92mcheck_response\u001b[0m                             \u001b[31m│\u001b[0m\n",
       "\u001b[31m│\u001b[0m                                                                                                  \u001b[31m│\u001b[0m\n",
       "\u001b[31m│\u001b[0m   \u001b[2m226 \u001b[0m\u001b[2m│   │   │   \u001b[0m\u001b[94melif\u001b[0m \u001b[33m\"\u001b[0m\u001b[33malert\u001b[0m\u001b[33m\"\u001b[0m \u001b[95min\u001b[0m value:                                                         \u001b[31m│\u001b[0m\n",
       "\u001b[31m│\u001b[0m   \u001b[2m227 \u001b[0m\u001b[2m│   │   │   │   \u001b[0malert_text = value[\u001b[33m\"\u001b[0m\u001b[33malert\u001b[0m\u001b[33m\"\u001b[0m].get(\u001b[33m\"\u001b[0m\u001b[33mtext\u001b[0m\u001b[33m\"\u001b[0m)                                    \u001b[31m│\u001b[0m\n",
       "\u001b[31m│\u001b[0m   \u001b[2m228 \u001b[0m\u001b[2m│   │   │   \u001b[0m\u001b[94mraise\u001b[0m exception_class(message, screen, stacktrace, alert_text)  \u001b[2m# type: igno\u001b[0m   \u001b[31m│\u001b[0m\n",
       "\u001b[31m│\u001b[0m \u001b[31m❱ \u001b[0m229 \u001b[2m│   │   \u001b[0m\u001b[94mraise\u001b[0m exception_class(message, screen, stacktrace)                                 \u001b[31m│\u001b[0m\n",
       "\u001b[31m│\u001b[0m   \u001b[2m230 \u001b[0m                                                                                           \u001b[31m│\u001b[0m\n",
       "\u001b[31m╰──────────────────────────────────────────────────────────────────────────────────────────────────╯\u001b[0m\n",
       "\u001b[1;91mNoSuchElementException: \u001b[0mMessage: Unable to locate element: \u001b[1m[\u001b[0m\u001b[33mid\u001b[0m=\u001b[32m\"dynamic\u001b[0m\u001b[32m element name here\"\u001b[0m\u001b[1m]\u001b[0m; For documentation on \n",
       "this error, please visit: \n",
       "\u001b[4;94mhttps://www.selenium.dev/documentation/webdriver/troubleshooting/errors#no-such-element-exception\u001b[0m\n",
       "Stacktrace:\n",
       "RemoteError@chrome:\u001b[35m/\u001b[0m\u001b[35m/remote/content/shared/\u001b[0m\u001b[95mRemoteError.sys.mjs\u001b[0m:\u001b[1;92m8:8\u001b[0m\n",
       "WebDriverError@chrome:\u001b[35m/\u001b[0m\u001b[35m/remote/content/shared/webdriver/\u001b[0m\u001b[95mErrors.sys.mjs\u001b[0m:\u001b[1;92m189:5\u001b[0m\n",
       "NoSuchElementError@chrome:\u001b[35m/\u001b[0m\u001b[35m/remote/content/shared/webdriver/\u001b[0m\u001b[95mErrors.sys.mjs\u001b[0m:\u001b[1;92m507:5\u001b[0m\n",
       "dom.find/<\u001b[35m/\u001b[0m<@chrome:\u001b[35m/\u001b[0m\u001b[35m/remote/content/shared/\u001b[0m\u001b[95mDOM.sys.mjs\u001b[0m:\u001b[1;92m132:16\u001b[0m\n",
       "\n"
      ]
     },
     "metadata": {},
     "output_type": "display_data"
    }
   ],
   "source": [
    "# element_data_test = 'dynamic element name here'\n",
    "# lbc_krawler.get_element(element_id=element_data_test)\n",
    "# log.info(element_data_test)"
   ]
  },
  {
   "cell_type": "code",
   "execution_count": 5,
   "metadata": {},
   "outputs": [],
   "source": [
    "\n",
    "lbc_krawler.shutdown()"
   ]
  }
 ],
 "metadata": {
  "kernelspec": {
   "display_name": "Python 3 (ipykernel)",
   "language": "python",
   "name": "python3"
  },
  "language_info": {
   "codemirror_mode": {
    "name": "ipython",
    "version": 3
   },
   "file_extension": ".py",
   "mimetype": "text/x-python",
   "name": "python",
   "nbconvert_exporter": "python",
   "pygments_lexer": "ipython3",
   "version": "3.12.0"
  }
 },
 "nbformat": 4,
 "nbformat_minor": 5
}
